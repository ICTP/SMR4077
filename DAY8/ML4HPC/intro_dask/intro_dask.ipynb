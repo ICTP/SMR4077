{
 "cells": [
  {
   "cell_type": "markdown",
   "id": "62a9a7ed-2fd0-41a7-bf93-c986c0173257",
   "metadata": {},
   "source": [
    "# From Introduction to Dask\n",
    "\n",
    "### By Paul Hendricks\n",
    "\n",
    "https://github.com/rapidsai-community/notebooks-contrib/blob/main/getting_started_materials/intro_tutorials_and_guides/03_Introduction_to_Dask.ipynb \n"
   ]
  },
  {
   "cell_type": "code",
   "execution_count": 1,
   "id": "895e88d8-6b99-43ea-b06b-b288e9895ec5",
   "metadata": {},
   "outputs": [],
   "source": [
    "import dask\n",
    "from dask.distributed import Client, LocalCluster\n",
    "from dask import delayed\n",
    "import time \n",
    "from dask.distributed import wait\n",
    "import graphviz\n"
   ]
  },
  {
   "cell_type": "markdown",
   "id": "6f0a4388-f83b-4dc2-b30a-6201877d77fa",
   "metadata": {},
   "source": [
    "### Introduction to Dask\n",
    "\n",
    "Dask is a library the allows for parallelized computing. \n",
    "It allows one to compose complex workflows using large data structures like those found in NumPy, Pandas, and cuDF. \n"
   ]
  },
  {
   "cell_type": "markdown",
   "id": "81d847fe-8d45-48c1-bee0-d8e810884f87",
   "metadata": {},
   "source": [
    "### Client/Workers\n",
    "\n",
    "Dask operates by creating a cluster composed of a \"client\" and multiple \"workers\". \n",
    "\n",
    "The client is responsible for scheduling work.\n",
    "\n",
    "The workers are responsible for actually executing that work.\n",
    "\n",
    "Typically, we set the number of workers to be equal to the number of computing resources we have available to us.\n",
    "\n",
    "For CPU based workflows, this might be the number of cores or threads on that particlular machine. \n",
    "\n",
    "For example, we might set n_workers = 8 if we have 8 CPU cores or threads on our machine that can each operate in parallel. \n",
    "\n",
    "This allows us to take advantage of all of our computing resources and enjoy the most benefits from parallelization.\n",
    "\n",
    "On a system with one or more GPUs, we usually set the number of workers equal to the number of GPUs available to us. \n",
    "\n",
    "Dask is relevant in the world of GPU computing and the RAPIDS ecosystem makes it very easy to use Dask with cuDF and XGBoost.\n",
    "\n"
   ]
  },
  {
   "cell_type": "markdown",
   "id": "493c9890-687d-4bec-8e43-8c38e0af0a1d",
   "metadata": {},
   "source": [
    "We need to setup a Local Cluster of workers to execute our work and a Client to coordinate and schedule work for that cluster. \n",
    "\n",
    "As we see below, we can inititate a cluster and client using only few lines of code.\n",
    "\n",
    "Here, we create a local cluster with 4 workers"
   ]
  },
  {
   "cell_type": "code",
   "execution_count": 2,
   "id": "b720b23d-2fb8-4de5-90b0-ae75fe1c3b2d",
   "metadata": {},
   "outputs": [],
   "source": [
    "n_workers = 4\n",
    "cluster = LocalCluster(n_workers=n_workers)\n",
    "client = Client(cluster)\n"
   ]
  },
  {
   "cell_type": "markdown",
   "id": "600151e4-eb4e-4924-9613-0094a33337c2",
   "metadata": {},
   "source": [
    "Let's inspect the client object to view our current Dask status. \n",
    "\n",
    "We should see the IP Address for our Scheduler as well as the the number of workers in our Cluster.\n"
   ]
  },
  {
   "cell_type": "code",
   "execution_count": 3,
   "id": "c2119327-72d6-469b-a1d0-ea04f0cd753c",
   "metadata": {},
   "outputs": [
    {
     "data": {
      "text/html": [
       "<div>\n",
       "    <div style=\"width: 24px; height: 24px; background-color: #e1e1e1; border: 3px solid #9D9D9D; border-radius: 5px; position: absolute;\"> </div>\n",
       "    <div style=\"margin-left: 48px;\">\n",
       "        <h3 style=\"margin-bottom: 0px;\">Client</h3>\n",
       "        <p style=\"color: #9D9D9D; margin-bottom: 0px;\">Client-e5e1833c-5b66-11f0-a129-080038b14eb7</p>\n",
       "        <table style=\"width: 100%; text-align: left;\">\n",
       "\n",
       "        <tr>\n",
       "        \n",
       "            <td style=\"text-align: left;\"><strong>Connection method:</strong> Cluster object</td>\n",
       "            <td style=\"text-align: left;\"><strong>Cluster type:</strong> distributed.LocalCluster</td>\n",
       "        \n",
       "        </tr>\n",
       "\n",
       "        \n",
       "            <tr>\n",
       "                <td style=\"text-align: left;\">\n",
       "                    <strong>Dashboard: </strong> <a href=\"http://127.0.0.1:8787/status\" target=\"_blank\">http://127.0.0.1:8787/status</a>\n",
       "                </td>\n",
       "                <td style=\"text-align: left;\"></td>\n",
       "            </tr>\n",
       "        \n",
       "\n",
       "        </table>\n",
       "\n",
       "        \n",
       "\n",
       "        \n",
       "            <details>\n",
       "            <summary style=\"margin-bottom: 20px;\"><h3 style=\"display: inline;\">Cluster Info</h3></summary>\n",
       "            <div class=\"jp-RenderedHTMLCommon jp-RenderedHTML jp-mod-trusted jp-OutputArea-output\">\n",
       "    <div style=\"width: 24px; height: 24px; background-color: #e1e1e1; border: 3px solid #9D9D9D; border-radius: 5px; position: absolute;\">\n",
       "    </div>\n",
       "    <div style=\"margin-left: 48px;\">\n",
       "        <h3 style=\"margin-bottom: 0px; margin-top: 0px;\">LocalCluster</h3>\n",
       "        <p style=\"color: #9D9D9D; margin-bottom: 0px;\">be482780</p>\n",
       "        <table style=\"width: 100%; text-align: left;\">\n",
       "            <tr>\n",
       "                <td style=\"text-align: left;\">\n",
       "                    <strong>Dashboard:</strong> <a href=\"http://127.0.0.1:8787/status\" target=\"_blank\">http://127.0.0.1:8787/status</a>\n",
       "                </td>\n",
       "                <td style=\"text-align: left;\">\n",
       "                    <strong>Workers:</strong> 4\n",
       "                </td>\n",
       "            </tr>\n",
       "            <tr>\n",
       "                <td style=\"text-align: left;\">\n",
       "                    <strong>Total threads:</strong> 32\n",
       "                </td>\n",
       "                <td style=\"text-align: left;\">\n",
       "                    <strong>Total memory:</strong> 482.42 GiB\n",
       "                </td>\n",
       "            </tr>\n",
       "            \n",
       "            <tr>\n",
       "    <td style=\"text-align: left;\"><strong>Status:</strong> running</td>\n",
       "    <td style=\"text-align: left;\"><strong>Using processes:</strong> True</td>\n",
       "</tr>\n",
       "\n",
       "            \n",
       "        </table>\n",
       "\n",
       "        <details>\n",
       "            <summary style=\"margin-bottom: 20px;\">\n",
       "                <h3 style=\"display: inline;\">Scheduler Info</h3>\n",
       "            </summary>\n",
       "\n",
       "            <div style=\"\">\n",
       "    <div>\n",
       "        <div style=\"width: 24px; height: 24px; background-color: #FFF7E5; border: 3px solid #FF6132; border-radius: 5px; position: absolute;\"> </div>\n",
       "        <div style=\"margin-left: 48px;\">\n",
       "            <h3 style=\"margin-bottom: 0px;\">Scheduler</h3>\n",
       "            <p style=\"color: #9D9D9D; margin-bottom: 0px;\">Scheduler-a383348b-bb93-4e40-92ed-1866e2e2c103</p>\n",
       "            <table style=\"width: 100%; text-align: left;\">\n",
       "                <tr>\n",
       "                    <td style=\"text-align: left;\">\n",
       "                        <strong>Comm:</strong> tcp://127.0.0.1:39805\n",
       "                    </td>\n",
       "                    <td style=\"text-align: left;\">\n",
       "                        <strong>Workers:</strong> 4\n",
       "                    </td>\n",
       "                </tr>\n",
       "                <tr>\n",
       "                    <td style=\"text-align: left;\">\n",
       "                        <strong>Dashboard:</strong> <a href=\"http://127.0.0.1:8787/status\" target=\"_blank\">http://127.0.0.1:8787/status</a>\n",
       "                    </td>\n",
       "                    <td style=\"text-align: left;\">\n",
       "                        <strong>Total threads:</strong> 32\n",
       "                    </td>\n",
       "                </tr>\n",
       "                <tr>\n",
       "                    <td style=\"text-align: left;\">\n",
       "                        <strong>Started:</strong> Just now\n",
       "                    </td>\n",
       "                    <td style=\"text-align: left;\">\n",
       "                        <strong>Total memory:</strong> 482.42 GiB\n",
       "                    </td>\n",
       "                </tr>\n",
       "            </table>\n",
       "        </div>\n",
       "    </div>\n",
       "\n",
       "    <details style=\"margin-left: 48px;\">\n",
       "        <summary style=\"margin-bottom: 20px;\">\n",
       "            <h3 style=\"display: inline;\">Workers</h3>\n",
       "        </summary>\n",
       "\n",
       "        \n",
       "        <div style=\"margin-bottom: 20px;\">\n",
       "            <div style=\"width: 24px; height: 24px; background-color: #DBF5FF; border: 3px solid #4CC9FF; border-radius: 5px; position: absolute;\"> </div>\n",
       "            <div style=\"margin-left: 48px;\">\n",
       "            <details>\n",
       "                <summary>\n",
       "                    <h4 style=\"margin-bottom: 0px; display: inline;\">Worker: 0</h4>\n",
       "                </summary>\n",
       "                <table style=\"width: 100%; text-align: left;\">\n",
       "                    <tr>\n",
       "                        <td style=\"text-align: left;\">\n",
       "                            <strong>Comm: </strong> tcp://127.0.0.1:40471\n",
       "                        </td>\n",
       "                        <td style=\"text-align: left;\">\n",
       "                            <strong>Total threads: </strong> 8\n",
       "                        </td>\n",
       "                    </tr>\n",
       "                    <tr>\n",
       "                        <td style=\"text-align: left;\">\n",
       "                            <strong>Dashboard: </strong> <a href=\"http://127.0.0.1:44649/status\" target=\"_blank\">http://127.0.0.1:44649/status</a>\n",
       "                        </td>\n",
       "                        <td style=\"text-align: left;\">\n",
       "                            <strong>Memory: </strong> 120.61 GiB\n",
       "                        </td>\n",
       "                    </tr>\n",
       "                    <tr>\n",
       "                        <td style=\"text-align: left;\">\n",
       "                            <strong>Nanny: </strong> tcp://127.0.0.1:34809\n",
       "                        </td>\n",
       "                        <td style=\"text-align: left;\"></td>\n",
       "                    </tr>\n",
       "                    <tr>\n",
       "                        <td colspan=\"2\" style=\"text-align: left;\">\n",
       "                            <strong>Local directory: </strong> /tmp/dask-scratch-space/worker-sgwf4tw8\n",
       "                        </td>\n",
       "                    </tr>\n",
       "\n",
       "                    \n",
       "\n",
       "                    \n",
       "\n",
       "                </table>\n",
       "            </details>\n",
       "            </div>\n",
       "        </div>\n",
       "        \n",
       "        <div style=\"margin-bottom: 20px;\">\n",
       "            <div style=\"width: 24px; height: 24px; background-color: #DBF5FF; border: 3px solid #4CC9FF; border-radius: 5px; position: absolute;\"> </div>\n",
       "            <div style=\"margin-left: 48px;\">\n",
       "            <details>\n",
       "                <summary>\n",
       "                    <h4 style=\"margin-bottom: 0px; display: inline;\">Worker: 1</h4>\n",
       "                </summary>\n",
       "                <table style=\"width: 100%; text-align: left;\">\n",
       "                    <tr>\n",
       "                        <td style=\"text-align: left;\">\n",
       "                            <strong>Comm: </strong> tcp://127.0.0.1:35679\n",
       "                        </td>\n",
       "                        <td style=\"text-align: left;\">\n",
       "                            <strong>Total threads: </strong> 8\n",
       "                        </td>\n",
       "                    </tr>\n",
       "                    <tr>\n",
       "                        <td style=\"text-align: left;\">\n",
       "                            <strong>Dashboard: </strong> <a href=\"http://127.0.0.1:35719/status\" target=\"_blank\">http://127.0.0.1:35719/status</a>\n",
       "                        </td>\n",
       "                        <td style=\"text-align: left;\">\n",
       "                            <strong>Memory: </strong> 120.61 GiB\n",
       "                        </td>\n",
       "                    </tr>\n",
       "                    <tr>\n",
       "                        <td style=\"text-align: left;\">\n",
       "                            <strong>Nanny: </strong> tcp://127.0.0.1:38591\n",
       "                        </td>\n",
       "                        <td style=\"text-align: left;\"></td>\n",
       "                    </tr>\n",
       "                    <tr>\n",
       "                        <td colspan=\"2\" style=\"text-align: left;\">\n",
       "                            <strong>Local directory: </strong> /tmp/dask-scratch-space/worker-n113tkrb\n",
       "                        </td>\n",
       "                    </tr>\n",
       "\n",
       "                    \n",
       "\n",
       "                    \n",
       "\n",
       "                </table>\n",
       "            </details>\n",
       "            </div>\n",
       "        </div>\n",
       "        \n",
       "        <div style=\"margin-bottom: 20px;\">\n",
       "            <div style=\"width: 24px; height: 24px; background-color: #DBF5FF; border: 3px solid #4CC9FF; border-radius: 5px; position: absolute;\"> </div>\n",
       "            <div style=\"margin-left: 48px;\">\n",
       "            <details>\n",
       "                <summary>\n",
       "                    <h4 style=\"margin-bottom: 0px; display: inline;\">Worker: 2</h4>\n",
       "                </summary>\n",
       "                <table style=\"width: 100%; text-align: left;\">\n",
       "                    <tr>\n",
       "                        <td style=\"text-align: left;\">\n",
       "                            <strong>Comm: </strong> tcp://127.0.0.1:34279\n",
       "                        </td>\n",
       "                        <td style=\"text-align: left;\">\n",
       "                            <strong>Total threads: </strong> 8\n",
       "                        </td>\n",
       "                    </tr>\n",
       "                    <tr>\n",
       "                        <td style=\"text-align: left;\">\n",
       "                            <strong>Dashboard: </strong> <a href=\"http://127.0.0.1:35321/status\" target=\"_blank\">http://127.0.0.1:35321/status</a>\n",
       "                        </td>\n",
       "                        <td style=\"text-align: left;\">\n",
       "                            <strong>Memory: </strong> 120.61 GiB\n",
       "                        </td>\n",
       "                    </tr>\n",
       "                    <tr>\n",
       "                        <td style=\"text-align: left;\">\n",
       "                            <strong>Nanny: </strong> tcp://127.0.0.1:44219\n",
       "                        </td>\n",
       "                        <td style=\"text-align: left;\"></td>\n",
       "                    </tr>\n",
       "                    <tr>\n",
       "                        <td colspan=\"2\" style=\"text-align: left;\">\n",
       "                            <strong>Local directory: </strong> /tmp/dask-scratch-space/worker-frsrg671\n",
       "                        </td>\n",
       "                    </tr>\n",
       "\n",
       "                    \n",
       "\n",
       "                    \n",
       "\n",
       "                </table>\n",
       "            </details>\n",
       "            </div>\n",
       "        </div>\n",
       "        \n",
       "        <div style=\"margin-bottom: 20px;\">\n",
       "            <div style=\"width: 24px; height: 24px; background-color: #DBF5FF; border: 3px solid #4CC9FF; border-radius: 5px; position: absolute;\"> </div>\n",
       "            <div style=\"margin-left: 48px;\">\n",
       "            <details>\n",
       "                <summary>\n",
       "                    <h4 style=\"margin-bottom: 0px; display: inline;\">Worker: 3</h4>\n",
       "                </summary>\n",
       "                <table style=\"width: 100%; text-align: left;\">\n",
       "                    <tr>\n",
       "                        <td style=\"text-align: left;\">\n",
       "                            <strong>Comm: </strong> tcp://127.0.0.1:34381\n",
       "                        </td>\n",
       "                        <td style=\"text-align: left;\">\n",
       "                            <strong>Total threads: </strong> 8\n",
       "                        </td>\n",
       "                    </tr>\n",
       "                    <tr>\n",
       "                        <td style=\"text-align: left;\">\n",
       "                            <strong>Dashboard: </strong> <a href=\"http://127.0.0.1:45385/status\" target=\"_blank\">http://127.0.0.1:45385/status</a>\n",
       "                        </td>\n",
       "                        <td style=\"text-align: left;\">\n",
       "                            <strong>Memory: </strong> 120.61 GiB\n",
       "                        </td>\n",
       "                    </tr>\n",
       "                    <tr>\n",
       "                        <td style=\"text-align: left;\">\n",
       "                            <strong>Nanny: </strong> tcp://127.0.0.1:43787\n",
       "                        </td>\n",
       "                        <td style=\"text-align: left;\"></td>\n",
       "                    </tr>\n",
       "                    <tr>\n",
       "                        <td colspan=\"2\" style=\"text-align: left;\">\n",
       "                            <strong>Local directory: </strong> /tmp/dask-scratch-space/worker-e_jms016\n",
       "                        </td>\n",
       "                    </tr>\n",
       "\n",
       "                    \n",
       "\n",
       "                    \n",
       "\n",
       "                </table>\n",
       "            </details>\n",
       "            </div>\n",
       "        </div>\n",
       "        \n",
       "\n",
       "    </details>\n",
       "</div>\n",
       "\n",
       "        </details>\n",
       "    </div>\n",
       "</div>\n",
       "            </details>\n",
       "        \n",
       "\n",
       "    </div>\n",
       "</div>"
      ],
      "text/plain": [
       "<Client: 'tcp://127.0.0.1:39805' processes=4 threads=32, memory=482.42 GiB>"
      ]
     },
     "execution_count": 3,
     "metadata": {},
     "output_type": "execute_result"
    }
   ],
   "source": [
    "client\n"
   ]
  },
  {
   "cell_type": "markdown",
   "id": "a37a3f58-53dc-4028-aa1a-77b5b9df1d80",
   "metadata": {},
   "source": [
    "Next, we'll iterate through our n_workers and create an execution graph, \n",
    "\n",
    "Each worker is responsible for taking its ID and passing it to the function add_5_to_x. \n",
    "\n",
    "For example, the worker with ID 2 will take its ID and pass it to the function add_5_to_x, resulting in the value 7."
   ]
  },
  {
   "cell_type": "markdown",
   "id": "5632e0d8-19c3-4b4e-a75b-f17efd5f579e",
   "metadata": {},
   "source": [
    "We define a function called add_5_to_x that takes some value x and adds 5 to it."
   ]
  },
  {
   "cell_type": "code",
   "execution_count": 4,
   "id": "f79ee0d0-c78a-4856-ab96-740fd33fe727",
   "metadata": {},
   "outputs": [],
   "source": [
    "def add_5_to_x(x):\n",
    "    return x + 5\n",
    "    "
   ]
  },
  {
   "cell_type": "code",
   "execution_count": 5,
   "id": "cf461561-b7dd-4cc7-ab04-fd707c351eea",
   "metadata": {},
   "outputs": [
    {
     "data": {
      "text/plain": [
       "[Delayed('add_5_to_x-5d341821-80ca-43ff-aa5b-d6d902fc97d6'),\n",
       " Delayed('add_5_to_x-f025d69a-d23e-479d-a262-1da3d845d8f2'),\n",
       " Delayed('add_5_to_x-724ecdca-8d21-4c8d-b60b-86db1a0e7595'),\n",
       " Delayed('add_5_to_x-a31ab865-c4b9-41ec-ac25-f04252b9c9ab')]"
      ]
     },
     "execution_count": 5,
     "metadata": {},
     "output_type": "execute_result"
    }
   ],
   "source": [
    "addition_operations = [delayed(add_5_to_x)(i) for i in range(n_workers)]\n",
    "addition_operations\n"
   ]
  },
  {
   "cell_type": "markdown",
   "id": "c9f8e7a2-c085-4b26-a1eb-682fd59e9110",
   "metadata": {},
   "source": [
    "The above output shows a list of several Delayed objects!\n",
    "\n",
    "An important thing to note is that the workers aren't actually executing these results!\n",
    "\n",
    "We're just defining the execution graph for our client to execute later.\n",
    "\n",
    "The delayed function wraps our function add_5_to_x and returns a Delayed object.\n",
    "\n",
    "This ensures that this computation is in fact \"delayed\" and not executed on the spot (lazily evaluation).\n"
   ]
  },
  {
   "cell_type": "markdown",
   "id": "6e6e128d-8451-4bf7-b61e-e3139d9a6242",
   "metadata": {},
   "source": [
    "Next, let's sum each one of these intermediate results.\n",
    "\n",
    "We can accomplish this by wrapping Python's built-in sum function.\n",
    "\n",
    "We use our delayed function and store this in a variable called total.\n",
    "    "
   ]
  },
  {
   "cell_type": "code",
   "execution_count": 6,
   "id": "08a4c605-04ac-4df3-b057-af9c60cba859",
   "metadata": {},
   "outputs": [
    {
     "data": {
      "text/plain": [
       "Delayed('sum-f6422d05-8bc1-4458-8295-7a1246a0267e')"
      ]
     },
     "execution_count": 6,
     "metadata": {},
     "output_type": "execute_result"
    }
   ],
   "source": [
    "total = delayed(sum)(addition_operations)\n",
    "total\n"
   ]
  },
  {
   "cell_type": "markdown",
   "id": "15d66db5-51e6-4b96-a761-daef29ecce49",
   "metadata": {},
   "source": [
    "Using the graphviz library, we can use the visualize method of a Delayed object to visualize our current graph."
   ]
  },
  {
   "cell_type": "code",
   "execution_count": 7,
   "id": "e001eff7-5938-45c0-90ec-0ac6e598a739",
   "metadata": {},
   "outputs": [
    {
     "data": {
      "image/png": "[encoded data removed]",
      "text/plain": [
       "<IPython.core.display.Image object>"
      ]
     },
     "execution_count": 7,
     "metadata": {},
     "output_type": "execute_result"
    }
   ],
   "source": [
    "total.visualize()"
   ]
  },
  {
   "cell_type": "markdown",
   "id": "d84d655b-9089-478d-a1ba-56a43329a8c4",
   "metadata": {},
   "source": [
    "The above output shows again a Delayed objects!\n",
    "\n",
    "As we mentioned before, none of these results - intermediate or final - have actually been compute. \n",
    "\n",
    "We can compute them using the compute method of our client.\n"
   ]
  },
  {
   "cell_type": "code",
   "execution_count": 8,
   "id": "ab246ce3-f8e7-448a-8f93-10a3d0066be1",
   "metadata": {},
   "outputs": [
    {
     "data": {
      "text/plain": [
       "[<Future: pending, key: add_5_to_x-5d341821-80ca-43ff-aa5b-d6d902fc97d6>,\n",
       " <Future: pending, key: add_5_to_x-f025d69a-d23e-479d-a262-1da3d845d8f2>,\n",
       " <Future: pending, key: add_5_to_x-724ecdca-8d21-4c8d-b60b-86db1a0e7595>,\n",
       " <Future: pending, key: add_5_to_x-a31ab865-c4b9-41ec-ac25-f04252b9c9ab>]"
      ]
     },
     "execution_count": 8,
     "metadata": {},
     "output_type": "execute_result"
    }
   ],
   "source": [
    "addition_futures = client.compute(addition_operations, optimize_graph=False, fifo_timeout=\"0ms\")\n",
    "addition_futures\n"
   ]
  },
  {
   "cell_type": "markdown",
   "id": "cf497bbe-353d-4787-bb9e-d9430c10b6be",
   "metadata": {},
   "source": [
    "We can see from the above output that our addition_futures variable is a list of Future objects\n",
    "\n",
    "It is not the \"actual results\" of adding 5 to each of [0, 1, 2, 3]. \n",
    "\n",
    "These Future objects are a promise that at one point a computation will take place and we will be left with a result.\n",
    "\n",
    "Dask is responsible for fulfilling that promise by delegating that task to the appropriate Dask worker and collecting the result.\n",
    "\n",
    "Let's take a look at our total_future object:\n"
   ]
  },
  {
   "cell_type": "code",
   "execution_count": 9,
   "id": "bdda3258-6fa4-4ab4-98ec-63676c046d5e",
   "metadata": {},
   "outputs": [
    {
     "data": {
      "text/html": [
       "<strong>Future: sum</strong>\n",
       "<span style=\"color: var(--jp-ui-font-color2, gray)\"> status: </span>\n",
       "\n",
       "\n",
       "<span style=\"color: var(--jp-error-color0, black)\">finished</span>,\n",
       "\n",
       "\n",
       "\n",
       "<span style=\"color: var(--jp-ui-font-color2, gray)\"> type:</span> int,\n",
       "\n",
       "\n",
       "<span style=\"color: var(--jp-ui-font-color2, gray)\"> key:</span> sum-f6422d05-8bc1-4458-8295-7a1246a0267e"
      ],
      "text/plain": [
       "<Future: finished, type: int, key: sum-f6422d05-8bc1-4458-8295-7a1246a0267e>"
      ]
     },
     "execution_count": 9,
     "metadata": {},
     "output_type": "execute_result"
    }
   ],
   "source": [
    "total_future = client.compute(total, optimize_graph=False, fifo_timeout=\"0ms\")\n",
    "wait(total_future)  # this will give Dask time to execute the work\n",
    "total_future\n"
   ]
  },
  {
   "cell_type": "code",
   "execution_count": 10,
   "id": "3ab80132-a902-4e82-886c-eb61075808bd",
   "metadata": {},
   "outputs": [
    {
     "data": {
      "text/plain": [
       "distributed.client.Future"
      ]
     },
     "execution_count": 10,
     "metadata": {},
     "output_type": "execute_result"
    }
   ],
   "source": [
    "type(total_future)\n"
   ]
  },
  {
   "cell_type": "markdown",
   "id": "94d30b42-dc54-4abc-9f26-073ef4fa1dc2",
   "metadata": {},
   "source": [
    "total_future is a Future with status of the request, type of the result, and a key associated with the operation\n",
    "\n",
    "To collect and print the result of each of these Future objects, we can call the result() method\n"
   ]
  },
  {
   "cell_type": "code",
   "execution_count": 11,
   "id": "e43804fb-6a1d-46ff-89de-a03a01aa691a",
   "metadata": {},
   "outputs": [
    {
     "data": {
      "text/plain": [
       "[5, 6, 7, 8]"
      ]
     },
     "execution_count": 11,
     "metadata": {},
     "output_type": "execute_result"
    }
   ],
   "source": [
    "addition_results = [future.result() for future in addition_futures]\n",
    "addition_results\n"
   ]
  },
  {
   "cell_type": "markdown",
   "id": "66761ada-6236-4ba2-ba71-874aa276b186",
   "metadata": {},
   "source": [
    "Now we see the results that we want from our addition operations.\n",
    "\n",
    "We can also use the simpler syntax of the client.gather method to collect our results.\n",
    "    "
   ]
  },
  {
   "cell_type": "code",
   "execution_count": 12,
   "id": "d93a1a8f-c268-4f38-8625-5013aa1e85de",
   "metadata": {},
   "outputs": [
    {
     "data": {
      "text/plain": [
       "[5, 6, 7, 8]"
      ]
     },
     "execution_count": 12,
     "metadata": {},
     "output_type": "execute_result"
    }
   ],
   "source": [
    "addition_results = client.gather(addition_futures)\n",
    "addition_results\n"
   ]
  },
  {
   "cell_type": "code",
   "execution_count": 13,
   "id": "5865cfe5-100d-43a7-9684-2617990a0eef",
   "metadata": {},
   "outputs": [
    {
     "data": {
      "text/plain": [
       "26"
      ]
     },
     "execution_count": 13,
     "metadata": {},
     "output_type": "execute_result"
    }
   ],
   "source": [
    "total_result = client.gather(total_future)\n",
    "total_result\n"
   ]
  },
  {
   "cell_type": "markdown",
   "id": "7893f768-69d8-4f15-92be-f9053a7c7bda",
   "metadata": {},
   "source": [
    "Awesome! We just wrote our first distributed workflow.\n",
    "\n",
    "To confirm that Dask is truly executing in parallel\n",
    "\n",
    "Consider a function that sleeps for 1 second and returns the string \"Success!\"\n"
   ]
  },
  {
   "cell_type": "code",
   "execution_count": 14,
   "id": "b2c3782b-234b-4c52-8e84-2773edcde087",
   "metadata": {},
   "outputs": [],
   "source": [
    "def sleep_1():\n",
    "    time.sleep(1)\n",
    "    return 'Success!'\n"
   ]
  },
  {
   "cell_type": "markdown",
   "id": "3ad12e3e-8b95-4c7b-b662-fa2afec8692f",
   "metadata": {},
   "source": [
    "In serial, this function should take our 4 workers around 4 seconds to execute.\n"
   ]
  },
  {
   "cell_type": "code",
   "execution_count": 15,
   "id": "cad77164-bf78-4b76-96a9-d6c47be88572",
   "metadata": {},
   "outputs": [
    {
     "name": "stdout",
     "output_type": "stream",
     "text": [
      "dt = 4.000440835952759\n"
     ]
    }
   ],
   "source": [
    "start = time.time()\n",
    "for _ in range(n_workers):\n",
    "    sleep_1()\n",
    "dt = time.time() - start\n",
    "print(f\"dt = {dt}\")"
   ]
  },
  {
   "cell_type": "markdown",
   "id": "5d4ca8bf-0d03-4ea2-a6ac-79c1eda3e07f",
   "metadata": {},
   "source": [
    "As expected, our process takes around 4 seconds to run\n",
    "\n",
    "Now let's execute this same workflow in parallel using Dask\n"
   ]
  },
  {
   "cell_type": "code",
   "execution_count": 16,
   "id": "f18cfce5-1c6e-4af9-8a33-4a6299fd717a",
   "metadata": {},
   "outputs": [],
   "source": [
    "# define delayed execution graph\n",
    "start = time.time()\n",
    "sleep_operations = [delayed(sleep_1)() for _ in range(n_workers)]\n",
    "# use client to perform computations using execution graph\n",
    "sleep_futures = client.compute(sleep_operations, optimize_graph=False, fifo_timeout=\"0ms\")\n",
    "# collect and print results\n",
    "sleep_results = client.gather(sleep_futures)\n",
    "dt = time.time() - start\n"
   ]
  },
  {
   "cell_type": "code",
   "execution_count": 17,
   "id": "758534f2-1478-4b18-859b-b02861025708",
   "metadata": {},
   "outputs": [
    {
     "name": "stdout",
     "output_type": "stream",
     "text": [
      "['Success!', 'Success!', 'Success!', 'Success!']\n",
      "dt = 1.0088496208190918\n"
     ]
    }
   ],
   "source": [
    "print(sleep_results)\n",
    "print(f\"dt = {dt}\")"
   ]
  },
  {
   "cell_type": "markdown",
   "id": "4238417c-f328-417f-864e-592aad3f791d",
   "metadata": {},
   "source": [
    "Using Dask, we see that this whole process takes around 1 second - each worker is executing in parallel!\n"
   ]
  },
  {
   "cell_type": "code",
   "execution_count": 18,
   "id": "bdcf7d70-9b9e-416e-b5d4-eae4fc1b8f61",
   "metadata": {},
   "outputs": [],
   "source": [
    "client.close()\n"
   ]
  },
  {
   "cell_type": "code",
   "execution_count": null,
   "id": "977a0c41-093a-4721-b606-d65f26e10960",
   "metadata": {},
   "outputs": [],
   "source": []
  },
  {
   "cell_type": "code",
   "execution_count": null,
   "id": "af8b00a7-87d5-4ff2-b301-d21377ac895a",
   "metadata": {},
   "outputs": [],
   "source": []
  }
 ],
 "metadata": {
  "kernelspec": {
   "display_name": "Python 3 (ipykernel)",
   "language": "python",
   "name": "python3"
  },
  "language_info": {
   "codemirror_mode": {
    "name": "ipython",
    "version": 3
   },
   "file_extension": ".py",
   "mimetype": "text/x-python",
   "name": "python",
   "nbconvert_exporter": "python",
   "pygments_lexer": "ipython3",
   "version": "3.12.10"
  }
 },
 "nbformat": 4,
 "nbformat_minor": 5
}
