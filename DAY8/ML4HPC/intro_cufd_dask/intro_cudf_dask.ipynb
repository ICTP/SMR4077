{
 "cells": [
  {
   "cell_type": "markdown",
   "id": "ade58c5b-cbd1-483c-b2ee-c92e07cd4cad",
   "metadata": {},
   "source": [
    "# Based on Introduction to Dask using cuDF DataFrames\n",
    "### By Paul Hendricks\n",
    "https://github.com/rapidsai-community/notebooks-contrib/blob/main/getting_started_materials/intro_tutorials_and_guides/04_Introduction_to_Dask_using_cuDF_DataFrames.ipynb"
   ]
  },
  {
   "cell_type": "code",
   "execution_count": 1,
   "id": "7edd6cca-44d8-499f-983f-844bb3910e5c",
   "metadata": {},
   "outputs": [],
   "source": [
    "from dask.distributed import Client, LocalCluster\n",
    "from dask.distributed import wait\n",
    "from dask.delayed import delayed\n",
    "from dask_cuda import LocalCUDACluster\n",
    "import cudf\n",
    "import numpy as np\n",
    "import dask_cudf \n",
    "import graphviz\n"
   ]
  },
  {
   "cell_type": "markdown",
   "id": "c1ce56ef-e70d-4a66-a131-7f5cbf33ebe5",
   "metadata": {},
   "source": [
    "Let's start by creating a local cluster of workers and a client to interact with that cluster."
   ]
  },
  {
   "cell_type": "code",
   "execution_count": 2,
   "id": "6ffe7384-5e80-4a4d-8149-fee453ad2fa0",
   "metadata": {},
   "outputs": [
    {
     "data": {
      "text/html": [
       "<div>\n",
       "    <div style=\"width: 24px; height: 24px; background-color: #e1e1e1; border: 3px solid #9D9D9D; border-radius: 5px; position: absolute;\"> </div>\n",
       "    <div style=\"margin-left: 48px;\">\n",
       "        <h3 style=\"margin-bottom: 0px;\">Client</h3>\n",
       "        <p style=\"color: #9D9D9D; margin-bottom: 0px;\">Client-eece0c0b-5b67-11f0-a89f-080038b14eb7</p>\n",
       "        <table style=\"width: 100%; text-align: left;\">\n",
       "\n",
       "        <tr>\n",
       "        \n",
       "            <td style=\"text-align: left;\"><strong>Connection method:</strong> Cluster object</td>\n",
       "            <td style=\"text-align: left;\"><strong>Cluster type:</strong> dask_cuda.LocalCUDACluster</td>\n",
       "        \n",
       "        </tr>\n",
       "\n",
       "        \n",
       "            <tr>\n",
       "                <td style=\"text-align: left;\">\n",
       "                    <strong>Dashboard: </strong> <a href=\"http://127.0.0.1:8787/status\" target=\"_blank\">http://127.0.0.1:8787/status</a>\n",
       "                </td>\n",
       "                <td style=\"text-align: left;\"></td>\n",
       "            </tr>\n",
       "        \n",
       "\n",
       "        </table>\n",
       "\n",
       "        \n",
       "\n",
       "        \n",
       "            <details>\n",
       "            <summary style=\"margin-bottom: 20px;\"><h3 style=\"display: inline;\">Cluster Info</h3></summary>\n",
       "            <div class=\"jp-RenderedHTMLCommon jp-RenderedHTML jp-mod-trusted jp-OutputArea-output\">\n",
       "    <div style=\"width: 24px; height: 24px; background-color: #e1e1e1; border: 3px solid #9D9D9D; border-radius: 5px; position: absolute;\">\n",
       "    </div>\n",
       "    <div style=\"margin-left: 48px;\">\n",
       "        <h3 style=\"margin-bottom: 0px; margin-top: 0px;\">LocalCUDACluster</h3>\n",
       "        <p style=\"color: #9D9D9D; margin-bottom: 0px;\">eee677be</p>\n",
       "        <table style=\"width: 100%; text-align: left;\">\n",
       "            <tr>\n",
       "                <td style=\"text-align: left;\">\n",
       "                    <strong>Dashboard:</strong> <a href=\"http://127.0.0.1:8787/status\" target=\"_blank\">http://127.0.0.1:8787/status</a>\n",
       "                </td>\n",
       "                <td style=\"text-align: left;\">\n",
       "                    <strong>Workers:</strong> 4\n",
       "                </td>\n",
       "            </tr>\n",
       "            <tr>\n",
       "                <td style=\"text-align: left;\">\n",
       "                    <strong>Total threads:</strong> 4\n",
       "                </td>\n",
       "                <td style=\"text-align: left;\">\n",
       "                    <strong>Total memory:</strong> 482.42 GiB\n",
       "                </td>\n",
       "            </tr>\n",
       "            \n",
       "            <tr>\n",
       "    <td style=\"text-align: left;\"><strong>Status:</strong> running</td>\n",
       "    <td style=\"text-align: left;\"><strong>Using processes:</strong> True</td>\n",
       "</tr>\n",
       "\n",
       "            \n",
       "        </table>\n",
       "\n",
       "        <details>\n",
       "            <summary style=\"margin-bottom: 20px;\">\n",
       "                <h3 style=\"display: inline;\">Scheduler Info</h3>\n",
       "            </summary>\n",
       "\n",
       "            <div style=\"\">\n",
       "    <div>\n",
       "        <div style=\"width: 24px; height: 24px; background-color: #FFF7E5; border: 3px solid #FF6132; border-radius: 5px; position: absolute;\"> </div>\n",
       "        <div style=\"margin-left: 48px;\">\n",
       "            <h3 style=\"margin-bottom: 0px;\">Scheduler</h3>\n",
       "            <p style=\"color: #9D9D9D; margin-bottom: 0px;\">Scheduler-10c8c3e9-6a71-494e-a9e3-58af619b0926</p>\n",
       "            <table style=\"width: 100%; text-align: left;\">\n",
       "                <tr>\n",
       "                    <td style=\"text-align: left;\">\n",
       "                        <strong>Comm:</strong> tcp://127.0.0.1:33337\n",
       "                    </td>\n",
       "                    <td style=\"text-align: left;\">\n",
       "                        <strong>Workers:</strong> 4\n",
       "                    </td>\n",
       "                </tr>\n",
       "                <tr>\n",
       "                    <td style=\"text-align: left;\">\n",
       "                        <strong>Dashboard:</strong> <a href=\"http://127.0.0.1:8787/status\" target=\"_blank\">http://127.0.0.1:8787/status</a>\n",
       "                    </td>\n",
       "                    <td style=\"text-align: left;\">\n",
       "                        <strong>Total threads:</strong> 4\n",
       "                    </td>\n",
       "                </tr>\n",
       "                <tr>\n",
       "                    <td style=\"text-align: left;\">\n",
       "                        <strong>Started:</strong> Just now\n",
       "                    </td>\n",
       "                    <td style=\"text-align: left;\">\n",
       "                        <strong>Total memory:</strong> 482.42 GiB\n",
       "                    </td>\n",
       "                </tr>\n",
       "            </table>\n",
       "        </div>\n",
       "    </div>\n",
       "\n",
       "    <details style=\"margin-left: 48px;\">\n",
       "        <summary style=\"margin-bottom: 20px;\">\n",
       "            <h3 style=\"display: inline;\">Workers</h3>\n",
       "        </summary>\n",
       "\n",
       "        \n",
       "        <div style=\"margin-bottom: 20px;\">\n",
       "            <div style=\"width: 24px; height: 24px; background-color: #DBF5FF; border: 3px solid #4CC9FF; border-radius: 5px; position: absolute;\"> </div>\n",
       "            <div style=\"margin-left: 48px;\">\n",
       "            <details>\n",
       "                <summary>\n",
       "                    <h4 style=\"margin-bottom: 0px; display: inline;\">Worker: 0</h4>\n",
       "                </summary>\n",
       "                <table style=\"width: 100%; text-align: left;\">\n",
       "                    <tr>\n",
       "                        <td style=\"text-align: left;\">\n",
       "                            <strong>Comm: </strong> tcp://127.0.0.1:44429\n",
       "                        </td>\n",
       "                        <td style=\"text-align: left;\">\n",
       "                            <strong>Total threads: </strong> 1\n",
       "                        </td>\n",
       "                    </tr>\n",
       "                    <tr>\n",
       "                        <td style=\"text-align: left;\">\n",
       "                            <strong>Dashboard: </strong> <a href=\"http://127.0.0.1:36961/status\" target=\"_blank\">http://127.0.0.1:36961/status</a>\n",
       "                        </td>\n",
       "                        <td style=\"text-align: left;\">\n",
       "                            <strong>Memory: </strong> 120.61 GiB\n",
       "                        </td>\n",
       "                    </tr>\n",
       "                    <tr>\n",
       "                        <td style=\"text-align: left;\">\n",
       "                            <strong>Nanny: </strong> tcp://127.0.0.1:39749\n",
       "                        </td>\n",
       "                        <td style=\"text-align: left;\"></td>\n",
       "                    </tr>\n",
       "                    <tr>\n",
       "                        <td colspan=\"2\" style=\"text-align: left;\">\n",
       "                            <strong>Local directory: </strong> /tmp/dask-scratch-space/worker-acs4ika6\n",
       "                        </td>\n",
       "                    </tr>\n",
       "\n",
       "                    \n",
       "\n",
       "                    \n",
       "\n",
       "                </table>\n",
       "            </details>\n",
       "            </div>\n",
       "        </div>\n",
       "        \n",
       "        <div style=\"margin-bottom: 20px;\">\n",
       "            <div style=\"width: 24px; height: 24px; background-color: #DBF5FF; border: 3px solid #4CC9FF; border-radius: 5px; position: absolute;\"> </div>\n",
       "            <div style=\"margin-left: 48px;\">\n",
       "            <details>\n",
       "                <summary>\n",
       "                    <h4 style=\"margin-bottom: 0px; display: inline;\">Worker: 1</h4>\n",
       "                </summary>\n",
       "                <table style=\"width: 100%; text-align: left;\">\n",
       "                    <tr>\n",
       "                        <td style=\"text-align: left;\">\n",
       "                            <strong>Comm: </strong> tcp://127.0.0.1:39381\n",
       "                        </td>\n",
       "                        <td style=\"text-align: left;\">\n",
       "                            <strong>Total threads: </strong> 1\n",
       "                        </td>\n",
       "                    </tr>\n",
       "                    <tr>\n",
       "                        <td style=\"text-align: left;\">\n",
       "                            <strong>Dashboard: </strong> <a href=\"http://127.0.0.1:36379/status\" target=\"_blank\">http://127.0.0.1:36379/status</a>\n",
       "                        </td>\n",
       "                        <td style=\"text-align: left;\">\n",
       "                            <strong>Memory: </strong> 120.61 GiB\n",
       "                        </td>\n",
       "                    </tr>\n",
       "                    <tr>\n",
       "                        <td style=\"text-align: left;\">\n",
       "                            <strong>Nanny: </strong> tcp://127.0.0.1:45895\n",
       "                        </td>\n",
       "                        <td style=\"text-align: left;\"></td>\n",
       "                    </tr>\n",
       "                    <tr>\n",
       "                        <td colspan=\"2\" style=\"text-align: left;\">\n",
       "                            <strong>Local directory: </strong> /tmp/dask-scratch-space/worker-8_nsivc2\n",
       "                        </td>\n",
       "                    </tr>\n",
       "\n",
       "                    \n",
       "\n",
       "                    \n",
       "\n",
       "                </table>\n",
       "            </details>\n",
       "            </div>\n",
       "        </div>\n",
       "        \n",
       "        <div style=\"margin-bottom: 20px;\">\n",
       "            <div style=\"width: 24px; height: 24px; background-color: #DBF5FF; border: 3px solid #4CC9FF; border-radius: 5px; position: absolute;\"> </div>\n",
       "            <div style=\"margin-left: 48px;\">\n",
       "            <details>\n",
       "                <summary>\n",
       "                    <h4 style=\"margin-bottom: 0px; display: inline;\">Worker: 2</h4>\n",
       "                </summary>\n",
       "                <table style=\"width: 100%; text-align: left;\">\n",
       "                    <tr>\n",
       "                        <td style=\"text-align: left;\">\n",
       "                            <strong>Comm: </strong> tcp://127.0.0.1:38249\n",
       "                        </td>\n",
       "                        <td style=\"text-align: left;\">\n",
       "                            <strong>Total threads: </strong> 1\n",
       "                        </td>\n",
       "                    </tr>\n",
       "                    <tr>\n",
       "                        <td style=\"text-align: left;\">\n",
       "                            <strong>Dashboard: </strong> <a href=\"http://127.0.0.1:39737/status\" target=\"_blank\">http://127.0.0.1:39737/status</a>\n",
       "                        </td>\n",
       "                        <td style=\"text-align: left;\">\n",
       "                            <strong>Memory: </strong> 120.61 GiB\n",
       "                        </td>\n",
       "                    </tr>\n",
       "                    <tr>\n",
       "                        <td style=\"text-align: left;\">\n",
       "                            <strong>Nanny: </strong> tcp://127.0.0.1:41967\n",
       "                        </td>\n",
       "                        <td style=\"text-align: left;\"></td>\n",
       "                    </tr>\n",
       "                    <tr>\n",
       "                        <td colspan=\"2\" style=\"text-align: left;\">\n",
       "                            <strong>Local directory: </strong> /tmp/dask-scratch-space/worker-fwoag9d5\n",
       "                        </td>\n",
       "                    </tr>\n",
       "\n",
       "                    \n",
       "\n",
       "                    \n",
       "\n",
       "                </table>\n",
       "            </details>\n",
       "            </div>\n",
       "        </div>\n",
       "        \n",
       "        <div style=\"margin-bottom: 20px;\">\n",
       "            <div style=\"width: 24px; height: 24px; background-color: #DBF5FF; border: 3px solid #4CC9FF; border-radius: 5px; position: absolute;\"> </div>\n",
       "            <div style=\"margin-left: 48px;\">\n",
       "            <details>\n",
       "                <summary>\n",
       "                    <h4 style=\"margin-bottom: 0px; display: inline;\">Worker: 3</h4>\n",
       "                </summary>\n",
       "                <table style=\"width: 100%; text-align: left;\">\n",
       "                    <tr>\n",
       "                        <td style=\"text-align: left;\">\n",
       "                            <strong>Comm: </strong> tcp://127.0.0.1:44033\n",
       "                        </td>\n",
       "                        <td style=\"text-align: left;\">\n",
       "                            <strong>Total threads: </strong> 1\n",
       "                        </td>\n",
       "                    </tr>\n",
       "                    <tr>\n",
       "                        <td style=\"text-align: left;\">\n",
       "                            <strong>Dashboard: </strong> <a href=\"http://127.0.0.1:33275/status\" target=\"_blank\">http://127.0.0.1:33275/status</a>\n",
       "                        </td>\n",
       "                        <td style=\"text-align: left;\">\n",
       "                            <strong>Memory: </strong> 120.61 GiB\n",
       "                        </td>\n",
       "                    </tr>\n",
       "                    <tr>\n",
       "                        <td style=\"text-align: left;\">\n",
       "                            <strong>Nanny: </strong> tcp://127.0.0.1:35531\n",
       "                        </td>\n",
       "                        <td style=\"text-align: left;\"></td>\n",
       "                    </tr>\n",
       "                    <tr>\n",
       "                        <td colspan=\"2\" style=\"text-align: left;\">\n",
       "                            <strong>Local directory: </strong> /tmp/dask-scratch-space/worker-4kn0ausq\n",
       "                        </td>\n",
       "                    </tr>\n",
       "\n",
       "                    \n",
       "\n",
       "                    \n",
       "\n",
       "                </table>\n",
       "            </details>\n",
       "            </div>\n",
       "        </div>\n",
       "        \n",
       "\n",
       "    </details>\n",
       "</div>\n",
       "\n",
       "        </details>\n",
       "    </div>\n",
       "</div>\n",
       "            </details>\n",
       "        \n",
       "\n",
       "    </div>\n",
       "</div>"
      ],
      "text/plain": [
       "<Client: 'tcp://127.0.0.1:33337' processes=4 threads=4, memory=482.42 GiB>"
      ]
     },
     "execution_count": 2,
     "metadata": {},
     "output_type": "execute_result"
    }
   ],
   "source": [
    "# define the number of workers\n",
    "n_workers = 4 \n",
    "\n",
    "# create a local CUDA cluster\n",
    "cluster = LocalCUDACluster()\n",
    "client = Client(cluster)\n",
    "client\n"
   ]
  },
  {
   "cell_type": "markdown",
   "id": "2ed52109-4331-42b0-b2be-6af9b271400c",
   "metadata": {},
   "source": [
    "We'll define a function called load_data that will create a cudf.DataFrame with two columns, key and value. \n",
    "\n",
    "The column key will be randomly filled with either a 0 or a 1, with 50% probability of either number being selected. \n",
    "\n",
    "The column value will be randomly filled with numbers sampled from a normal distribution.\n"
   ]
  },
  {
   "cell_type": "code",
   "execution_count": 3,
   "id": "e699f336-adcc-48dc-b793-ff442f1cf274",
   "metadata": {},
   "outputs": [],
   "source": [
    "def load_data(n_rows):\n",
    "    df = cudf.DataFrame()\n",
    "    random_state = np.random.RandomState(43210)\n",
    "    df['key'] = random_state.binomial(n=1, p=0.5, size=(n_rows,))\n",
    "    df['value'] = random_state.normal(size=(n_rows,))\n",
    "    return df\n"
   ]
  },
  {
   "cell_type": "markdown",
   "id": "05895476-4eff-4e3a-9009-0913da86e966",
   "metadata": {},
   "source": [
    "We'll also define a function head that takes a cudf.DataFrame and returns the first 5 rows."
   ]
  },
  {
   "cell_type": "code",
   "execution_count": 4,
   "id": "0fc5a9bf-8c7d-4c8e-bc43-42751b65fd9e",
   "metadata": {},
   "outputs": [],
   "source": [
    "def head(dataframe):\n",
    "    return dataframe.head()\n"
   ]
  },
  {
   "cell_type": "markdown",
   "id": "0d00abd7-599b-431e-9446-9df2300fb898",
   "metadata": {},
   "source": [
    "We'll define the number of workers as well as the number of rows each dataframe will have."
   ]
  },
  {
   "cell_type": "code",
   "execution_count": 5,
   "id": "6de81413-703c-4e52-a7a7-ef4c99dfba5b",
   "metadata": {},
   "outputs": [],
   "source": [
    "# define the number of rows each dataframe will have\n",
    "n_rows = 125000000  # we'll use 125 million rows in each dataframe\n"
   ]
  },
  {
   "cell_type": "markdown",
   "id": "100d3b06-4c9d-417b-b575-6d7e563a7265",
   "metadata": {},
   "source": [
    "We'll create each dataframe using the delayed operator."
   ]
  },
  {
   "cell_type": "code",
   "execution_count": 6,
   "id": "156a3aac-d239-420e-93ed-00020296c86d",
   "metadata": {},
   "outputs": [
    {
     "data": {
      "text/plain": [
       "[Delayed('load_data-fd59c23d-50f7-4212-bcdc-70c4abf5cbf6'),\n",
       " Delayed('load_data-86961577-a80e-4928-abaa-30bce78f602c'),\n",
       " Delayed('load_data-5ca07b01-0516-49f6-89fb-12939d7ff79e'),\n",
       " Delayed('load_data-16110f35-b872-46f2-994d-54e88fdb429d')]"
      ]
     },
     "execution_count": 6,
     "metadata": {},
     "output_type": "execute_result"
    }
   ],
   "source": [
    "# create each dataframe using a delayed operation\n",
    "dfs = [delayed(load_data)(n_rows) for i in range(n_workers)]\n",
    "dfs\n"
   ]
  },
  {
   "cell_type": "markdown",
   "id": "5f09dad4-487f-47d7-aa4f-6ffa921f0829",
   "metadata": {},
   "source": [
    "We see the result of this operation is a list of Delayed objects. \n",
    "\n",
    "It's important to note that these operations are \"delayed\" - nothing has been computed yet.\n",
    "\n",
    "It means that our data has not yet been created!\n",
    "\n",
    "We can apply the *head* function to each of our \"delayed\" dataframes.\n"
   ]
  },
  {
   "cell_type": "code",
   "execution_count": 7,
   "id": "f3558237-88ad-43ad-b289-03a4e45515b6",
   "metadata": {},
   "outputs": [
    {
     "data": {
      "text/plain": [
       "[Delayed('head-700b7b0e-2576-4a95-ac9d-662f14a74095'),\n",
       " Delayed('head-6aeb7e93-4520-43b6-93b8-1822e0b2615b'),\n",
       " Delayed('head-efadeb45-4287-4d78-a5f7-d4e5358d20a4'),\n",
       " Delayed('head-7decc0eb-8d9c-40d4-8973-1afc7a7ba96c')]"
      ]
     },
     "execution_count": 7,
     "metadata": {},
     "output_type": "execute_result"
    }
   ],
   "source": [
    "head_dfs = [delayed(head)(df) for df in dfs]\n",
    "head_dfs\n"
   ]
  },
  {
   "cell_type": "markdown",
   "id": "c877a895-0e5d-4858-bafe-130f094f529b",
   "metadata": {},
   "source": [
    "We see that the result is a list of Delayed objects.\n",
    "\n",
    "Note that our \"key\", or unique identifier for each operation, has changed. \n",
    "\n",
    "You should see the name of the function head followed by a hash sign. \n",
    "\n",
    "Again, nothing has been computed - let's compute the results and execute the workflow using the client.compute() method.\n"
   ]
  },
  {
   "cell_type": "code",
   "execution_count": 8,
   "id": "5ca49b88-187c-4a7d-b896-2c80c3c349a4",
   "metadata": {},
   "outputs": [
    {
     "data": {
      "text/plain": [
       "[<Future: finished, type: cudf.core.dataframe.DataFrame, key: head-700b7b0e-2576-4a95-ac9d-662f14a74095>,\n",
       " <Future: finished, type: cudf.core.dataframe.DataFrame, key: head-6aeb7e93-4520-43b6-93b8-1822e0b2615b>,\n",
       " <Future: finished, type: cudf.core.dataframe.DataFrame, key: head-efadeb45-4287-4d78-a5f7-d4e5358d20a4>,\n",
       " <Future: finished, type: cudf.core.dataframe.DataFrame, key: head-7decc0eb-8d9c-40d4-8973-1afc7a7ba96c>]"
      ]
     },
     "execution_count": 8,
     "metadata": {},
     "output_type": "execute_result"
    }
   ],
   "source": [
    "# use the client to compute - this means create each dataframe and take the head\n",
    "futures = client.compute(head_dfs)\n",
    "wait(futures)  # this will give Dask time to execute the work before moving to any subsequently defined operations\n",
    "futures\n"
   ]
  },
  {
   "cell_type": "markdown",
   "id": "2113458b-a196-42d4-a089-50c723e8f079",
   "metadata": {},
   "source": [
    "We see that our results are a list of futures. \n",
    "    \n",
    "Each object in this list tells us a bit information about itself: \n",
    "\n",
    "- the status (pending, error, finished),\n",
    "- the type of the object, and\n",
    "- the key (unique identifief).\n",
    "\n",
    "We can use the client.gather method to collect the results of each of these futures.\n"
   ]
  },
  {
   "cell_type": "code",
   "execution_count": 9,
   "id": "42ce9051-dc58-41bc-9405-da4c245c52b8",
   "metadata": {},
   "outputs": [
    {
     "data": {
      "text/plain": [
       "[   key     value\n",
       " 0    1  0.689155\n",
       " 1    0  0.999085\n",
       " 2    0 -0.277850\n",
       " 3    1 -1.535017\n",
       " 4    1 -0.028184,\n",
       "    key     value\n",
       " 0    1  0.689155\n",
       " 1    0  0.999085\n",
       " 2    0 -0.277850\n",
       " 3    1 -1.535017\n",
       " 4    1 -0.028184,\n",
       "    key     value\n",
       " 0    1  0.689155\n",
       " 1    0  0.999085\n",
       " 2    0 -0.277850\n",
       " 3    1 -1.535017\n",
       " 4    1 -0.028184,\n",
       "    key     value\n",
       " 0    1  0.689155\n",
       " 1    0  0.999085\n",
       " 2    0 -0.277850\n",
       " 3    1 -1.535017\n",
       " 4    1 -0.028184]"
      ]
     },
     "execution_count": 9,
     "metadata": {},
     "output_type": "execute_result"
    }
   ],
   "source": [
    "# collect the results\n",
    "results = client.gather(futures)\n",
    "results\n"
   ]
  },
  {
   "cell_type": "markdown",
   "id": "88bc8296-6aa0-4616-bb4a-0ebf7965ae3a",
   "metadata": {},
   "source": [
    "We see that our results are a list of cuDF DataFrames, each having 2 columns and 5 rows. \n",
    "\n",
    "Let's inspect the first dataframe:\n"
   ]
  },
  {
   "cell_type": "code",
   "execution_count": 10,
   "id": "ea781ee9-963d-4f3a-a548-ba10163e1488",
   "metadata": {},
   "outputs": [
    {
     "name": "stdout",
     "output_type": "stream",
     "text": [
      "   key     value\n",
      "0    1  0.689155\n",
      "1    0  0.999085\n",
      "2    0 -0.277850\n",
      "3    1 -1.535017\n",
      "4    1 -0.028184\n"
     ]
    }
   ],
   "source": [
    "# let's inspect the head of the first dataframe\n",
    "print(results[0])\n"
   ]
  },
  {
   "cell_type": "markdown",
   "id": "76b8e6e1-c23b-4772-a344-9ed2cb3d0b0f",
   "metadata": {},
   "source": [
    "Voila!\n",
    "\n",
    "That was a pretty simple example. \n",
    "\n",
    "Let's see how we can use this perform a more complex operation like figuring how many total rows we have across all of our dataframes. \n",
    "\n",
    "We'll define a function called length that will take a cudf.DataFrame and return the first value of the shape attribute.\n",
    "\n",
    "That is the number of rows for that particular dataframe.\n"
   ]
  },
  {
   "cell_type": "code",
   "execution_count": 11,
   "id": "d5517c04-2008-462b-94ec-9b90c5328276",
   "metadata": {},
   "outputs": [],
   "source": [
    "def length(dataframe):\n",
    "    return dataframe.shape[0]\n"
   ]
  },
  {
   "cell_type": "markdown",
   "id": "e2f748f9-18e0-4f31-905c-4aa72ea22156",
   "metadata": {},
   "source": [
    "We'll define our operation on the dataframes we've created:"
   ]
  },
  {
   "cell_type": "code",
   "execution_count": 12,
   "id": "f1639f81-4b72-4133-91fb-96b7aa1cd5f4",
   "metadata": {},
   "outputs": [],
   "source": [
    "lengths = [delayed(length)(df) for df in dfs]\n"
   ]
  },
  {
   "cell_type": "markdown",
   "id": "925e22ac-2f15-482c-9b74-9094ad1ac9b1",
   "metadata": {},
   "source": [
    "And then use Python's built-in sum function to sum all of these lengths.\n"
   ]
  },
  {
   "cell_type": "code",
   "execution_count": 13,
   "id": "431b3aca-9548-49db-a7eb-78be8946ac58",
   "metadata": {},
   "outputs": [],
   "source": [
    "total_number_of_rows = delayed(sum)(lengths)\n"
   ]
  },
  {
   "cell_type": "markdown",
   "id": "37987365-77ca-45f3-8956-bb8ea3e584e3",
   "metadata": {},
   "source": [
    "At this point, total_number_of_rows hasn't been computed yet. \n",
    "\n",
    "But we can still visualize the graph of operations we've defined using the visualize() method.\n"
   ]
  },
  {
   "cell_type": "code",
   "execution_count": 14,
   "id": "f723debe-c07f-4a6b-acf5-23c918920d0d",
   "metadata": {},
   "outputs": [
    {
     "data": {
      "image/png": "[encoded data removed]",
      "text/plain": [
       "<IPython.core.display.Image object>"
      ]
     },
     "execution_count": 14,
     "metadata": {},
     "output_type": "execute_result"
    }
   ],
   "source": [
    "total_number_of_rows.visualize()\n"
   ]
  },
  {
   "cell_type": "markdown",
   "id": "4b81e8f5-d655-40e9-a77d-073d85db8d01",
   "metadata": {},
   "source": [
    "The graph can be read from bottom to top. \n",
    "\n",
    "We see that for each worker, we will first execute the load_data function to create each dataframe. \n",
    "\n",
    "Then the function length will be applied to each dataframe.\n",
    "\n",
    "The results from these operations on each worker will then be combined into a single result via the sum function.\n",
    "\n",
    "Let's now execute our workflow and compute a value for the total_number_of_rows variable.\n"
   ]
  },
  {
   "cell_type": "code",
   "execution_count": 15,
   "id": "0f7d983a-a090-4d83-8cbc-0edb1fb655a9",
   "metadata": {},
   "outputs": [
    {
     "data": {
      "text/html": [
       "<strong>Future: sum</strong>\n",
       "<span style=\"color: var(--jp-ui-font-color2, gray)\"> status: </span>\n",
       "\n",
       "\n",
       "<span style=\"color: var(--jp-error-color0, black)\">finished</span>,\n",
       "\n",
       "\n",
       "\n",
       "<span style=\"color: var(--jp-ui-font-color2, gray)\"> type:</span> int,\n",
       "\n",
       "\n",
       "<span style=\"color: var(--jp-ui-font-color2, gray)\"> key:</span> sum-bddfce46-a58f-4241-b46e-dbb6dded0530"
      ],
      "text/plain": [
       "<Future: finished, type: int, key: sum-bddfce46-a58f-4241-b46e-dbb6dded0530>"
      ]
     },
     "execution_count": 15,
     "metadata": {},
     "output_type": "execute_result"
    }
   ],
   "source": [
    "# use the client to compute the result and wait for it to finish\n",
    "future = client.compute(total_number_of_rows)\n",
    "wait(future)\n",
    "future\n"
   ]
  },
  {
   "cell_type": "markdown",
   "id": "4ffc2524-cdfb-4942-b04f-1ba5f6b1b33d",
   "metadata": {},
   "source": [
    "We see that our computation has finished - our result is of type int. \n",
    "\n",
    "We can collect our result using the client.gather() method.\n"
   ]
  },
  {
   "cell_type": "code",
   "execution_count": 16,
   "id": "5a195881-eccd-4952-887b-a0301c03e9f6",
   "metadata": {},
   "outputs": [
    {
     "data": {
      "text/plain": [
       "500000000"
      ]
     },
     "execution_count": 16,
     "metadata": {},
     "output_type": "execute_result"
    }
   ],
   "source": [
    "# collect result\n",
    "result = client.gather(future)\n",
    "result\n"
   ]
  },
  {
   "cell_type": "markdown",
   "id": "b4c9f435-d56a-4f78-ae32-f442e884c712",
   "metadata": {},
   "source": [
    "That's all there is to it! \n",
    "\n",
    "We can define even more complex operations and workflows using cuDF DataFrames by using the \n",
    "\n",
    "- delayed,\n",
    "- wait,\n",
    "- client.submit(), and\n",
    "- client.gather()\n",
    "\n",
    "However, there can sometimes be a drawback from using this pattern. \n",
    "\n",
    "Consider a common operation such as a groupby.\n",
    "\n",
    "We might want to group on certain keys and aggregate the values to compute a mean, variance, or even more complex aggregations. \n",
    "\n",
    "Each dataframe is located on a different GPU.\n",
    "\n",
    "We're not guaranteed that all of the keys necessary for that groupby operation are located on a single GPU.\n",
    "\n",
    "That is keys may be scattered across multiple GPUs.\n",
    "\n",
    "Let's consider the simple operation of grouping on our key column and calculating the mean of the value column. \n",
    "\n",
    "We'd have to sort the data and transfer keys and their associated values from one GPU to another - a tricky thing to do using the delayed pattern. \n",
    "\n",
    "In the example below, we'll show an example of this issue with the delayed pattern and motivate why one might consider using the dask_cudf API.\n",
    "\n",
    "First, let's define a function groupby that takes a cudf.DataFrame, groups by the key column, and calculates the mean of the value column.\n"
   ]
  },
  {
   "cell_type": "code",
   "execution_count": 17,
   "id": "2636b9b7-64cb-4e7e-9d34-93309b3d6f24",
   "metadata": {},
   "outputs": [],
   "source": [
    "def groupby(dataframe):\n",
    "    return dataframe.groupby('key')['value'].mean()\n"
   ]
  },
  {
   "cell_type": "markdown",
   "id": "b51170f2-f045-433c-aa46-dd44083d8ac9",
   "metadata": {},
   "source": [
    "We'll apply the function groupby to each dataframe using the delayed operation.\n"
   ]
  },
  {
   "cell_type": "code",
   "execution_count": 18,
   "id": "52db7084-c37e-4049-a955-d6c6a8c3d085",
   "metadata": {},
   "outputs": [],
   "source": [
    "groupbys = [delayed(groupby)(df) for df in dfs]\n"
   ]
  },
  {
   "cell_type": "markdown",
   "id": "c56057dd-8e39-495e-bd94-76e058482d85",
   "metadata": {},
   "source": [
    "We'll then execute that operation:\n"
   ]
  },
  {
   "cell_type": "code",
   "execution_count": 19,
   "id": "afde70f8-9078-4789-9489-2e562460e472",
   "metadata": {},
   "outputs": [
    {
     "data": {
      "text/plain": [
       "[<Future: finished, type: cudf.core.series.Series, key: groupby-3560434e-7459-4e47-bbd4-244bd5e4d89a>,\n",
       " <Future: finished, type: cudf.core.series.Series, key: groupby-633619ed-a6bd-48dc-b2f8-f46153d23aea>,\n",
       " <Future: finished, type: cudf.core.series.Series, key: groupby-15c36860-4944-4c08-9433-3a707d09ae00>,\n",
       " <Future: finished, type: cudf.core.series.Series, key: groupby-8262adbe-2361-4d53-bc65-1671a3f2568e>]"
      ]
     },
     "execution_count": 19,
     "metadata": {},
     "output_type": "execute_result"
    }
   ],
   "source": [
    "# use the client to compute the result and wait for it to finish\n",
    "groupby_dfs = client.compute(groupbys)\n",
    "wait(groupby_dfs)\n",
    "groupby_dfs\n"
   ]
  },
  {
   "cell_type": "code",
   "execution_count": 20,
   "id": "4c362095-d78f-472b-8851-e50c221b2ffc",
   "metadata": {},
   "outputs": [
    {
     "data": {
      "text/plain": [
       "[key\n",
       " 0   -0.000173\n",
       " 1   -0.000059\n",
       " Name: value, dtype: float64,\n",
       " key\n",
       " 0   -0.000173\n",
       " 1   -0.000059\n",
       " Name: value, dtype: float64,\n",
       " key\n",
       " 0   -0.000173\n",
       " 1   -0.000059\n",
       " Name: value, dtype: float64,\n",
       " key\n",
       " 0   -0.000173\n",
       " 1   -0.000059\n",
       " Name: value, dtype: float64]"
      ]
     },
     "execution_count": 20,
     "metadata": {},
     "output_type": "execute_result"
    }
   ],
   "source": [
    "results = client.gather(groupby_dfs)\n",
    "results\n"
   ]
  },
  {
   "cell_type": "code",
   "execution_count": 21,
   "id": "0cf60804-b412-49c6-8f95-0ef5988d183d",
   "metadata": {},
   "outputs": [
    {
     "name": "stdout",
     "output_type": "stream",
     "text": [
      "cuDF DataFrame: 0\n",
      "key\n",
      "0   -0.000173\n",
      "1   -0.000059\n",
      "Name: value, dtype: float64\n",
      "cuDF DataFrame: 1\n",
      "key\n",
      "0   -0.000173\n",
      "1   -0.000059\n",
      "Name: value, dtype: float64\n",
      "cuDF DataFrame: 2\n",
      "key\n",
      "0   -0.000173\n",
      "1   -0.000059\n",
      "Name: value, dtype: float64\n",
      "cuDF DataFrame: 3\n",
      "key\n",
      "0   -0.000173\n",
      "1   -0.000059\n",
      "Name: value, dtype: float64\n"
     ]
    }
   ],
   "source": [
    "for i, result in enumerate(results):\n",
    "    print('cuDF DataFrame:', i)\n",
    "    print(result)\n"
   ]
  },
  {
   "cell_type": "markdown",
   "id": "a49e050c-7b69-485c-9493-efc6e98a887d",
   "metadata": {},
   "source": [
    "This isn't exactly what we wanted though.\n",
    "\n",
    "Ideally, we'd get one dataframe where for each unique key (0 and 1), we get the mean of the value column.\n",
    "\n",
    "We can use the dask_cudf API to help up solve this problem. \n",
    "\n",
    "First we'll import the dask_cudf library.\n",
    "\n",
    "Then use the dask_cudf.from_delayed function to convert our list of delayed dataframes to an object of type dask_cudf.core.DataFrame. \n",
    "\n",
    "We'll use this object - distributed_df - along with the dask_cudf API to perform that \"tricky\" groupby operation.\n"
   ]
  },
  {
   "cell_type": "code",
   "execution_count": 22,
   "id": "182b1aea-32ec-4077-be84-84862cf066bb",
   "metadata": {},
   "outputs": [
    {
     "name": "stdout",
     "output_type": "stream",
     "text": [
      "Type: <class 'dask_cudf._expr.collection.DataFrame'>\n"
     ]
    },
    {
     "data": {
      "text/html": [
       "<div><strong>Dask DataFrame Structure:</strong></div>\n",
       "<table border=\"1\" class=\"dataframe\">\n",
       "  <thead>\n",
       "    <tr style=\"text-align: right;\">\n",
       "      <th></th>\n",
       "      <th>key</th>\n",
       "      <th>value</th>\n",
       "    </tr>\n",
       "    <tr>\n",
       "      <th>npartitions=4</th>\n",
       "      <th></th>\n",
       "      <th></th>\n",
       "    </tr>\n",
       "  </thead>\n",
       "  <tbody>\n",
       "    <tr>\n",
       "      <th></th>\n",
       "      <td>int64</td>\n",
       "      <td>float64</td>\n",
       "    </tr>\n",
       "    <tr>\n",
       "      <th></th>\n",
       "      <td>...</td>\n",
       "      <td>...</td>\n",
       "    </tr>\n",
       "    <tr>\n",
       "      <th></th>\n",
       "      <td>...</td>\n",
       "      <td>...</td>\n",
       "    </tr>\n",
       "    <tr>\n",
       "      <th></th>\n",
       "      <td>...</td>\n",
       "      <td>...</td>\n",
       "    </tr>\n",
       "    <tr>\n",
       "      <th></th>\n",
       "      <td>...</td>\n",
       "      <td>...</td>\n",
       "    </tr>\n",
       "  </tbody>\n",
       "</table>\n",
       "<div>Dask Name: fromdelayed, 2 expressions</div>"
      ],
      "text/plain": [
       "Dask DataFrame Structure:\n",
       "                 key    value\n",
       "npartitions=4                \n",
       "               int64  float64\n",
       "                 ...      ...\n",
       "                 ...      ...\n",
       "                 ...      ...\n",
       "                 ...      ...\n",
       "Dask Name: fromdelayed, 2 expressions\n",
       "Expr=FromDelayed(0da1355)"
      ]
     },
     "execution_count": 22,
     "metadata": {},
     "output_type": "execute_result"
    }
   ],
   "source": [
    "# create a distributed cuDF DataFrame using Dask\n",
    "distributed_df = dask_cudf.from_delayed(dfs)\n",
    "print('Type:', type(distributed_df))\n",
    "distributed_df\n"
   ]
  },
  {
   "cell_type": "markdown",
   "id": "603afe7e-4ffd-4fc8-979a-9b359790124a",
   "metadata": {},
   "source": [
    "The dask_cudf API closely mirrors the cuDF API. \n",
    "\n",
    "We can use a groupby similar to how we would with cuDF - but this time, our operation is distributed across multiple GPUs!\n"
   ]
  },
  {
   "cell_type": "code",
   "execution_count": 23,
   "id": "8bcc8b8a-e1c1-4ff1-ab49-7df00ea1f2be",
   "metadata": {},
   "outputs": [
    {
     "data": {
      "text/plain": [
       "key\n",
       "0   -0.000173\n",
       "1   -0.000059\n",
       "Name: value, dtype: float64"
      ]
     },
     "execution_count": 23,
     "metadata": {},
     "output_type": "execute_result"
    }
   ],
   "source": [
    "result = distributed_df.groupby('key')['value'].mean().compute()\n",
    "result\n"
   ]
  },
  {
   "cell_type": "markdown",
   "id": "fbeaecf7-b81b-4068-9367-b3b671f2d489",
   "metadata": {},
   "source": [
    "Lastly, let's examine our result!\n"
   ]
  },
  {
   "cell_type": "code",
   "execution_count": 24,
   "id": "11c00f84-3064-46ec-9a1e-80fe7fd5a8d3",
   "metadata": {},
   "outputs": [
    {
     "name": "stdout",
     "output_type": "stream",
     "text": [
      "key\n",
      "0   -0.000173\n",
      "1   -0.000059\n",
      "Name: value, dtype: float64\n"
     ]
    }
   ],
   "source": [
    "print(result)\n"
   ]
  },
  {
   "cell_type": "code",
   "execution_count": 25,
   "id": "75410010-4dc8-4ff5-bd9e-fc0792dc2076",
   "metadata": {},
   "outputs": [],
   "source": [
    "client.close()\n"
   ]
  },
  {
   "cell_type": "code",
   "execution_count": null,
   "id": "438f0fb9-a4f6-494f-8fb9-fff7db7d3a41",
   "metadata": {},
   "outputs": [],
   "source": []
  }
 ],
 "metadata": {
  "kernelspec": {
   "display_name": "Python 3 (ipykernel)",
   "language": "python",
   "name": "python3"
  },
  "language_info": {
   "codemirror_mode": {
    "name": "ipython",
    "version": 3
   },
   "file_extension": ".py",
   "mimetype": "text/x-python",
   "name": "python",
   "nbconvert_exporter": "python",
   "pygments_lexer": "ipython3",
   "version": "3.12.10"
  }
 },
 "nbformat": 4,
 "nbformat_minor": 5
}
