{
 "cells": [
  {
   "cell_type": "markdown",
   "id": "82420745-039b-4c36-b74b-5108f57e94bb",
   "metadata": {},
   "source": [
    "Load all the dependencies"
   ]
  },
  {
   "cell_type": "code",
   "execution_count": 1,
   "id": "986e6a02-46d2-4b88-a423-643f53fc9c92",
   "metadata": {},
   "outputs": [],
   "source": [
    "from cuml.dask.cluster import KMeans\n",
    "from dask_cuda import LocalCUDACluster\n",
    "from dask.distributed import Client, wait\n",
    "import dask.array as da\n",
    "import time\n",
    "import os \n",
    "import pickle\n",
    "from cuml.dask.datasets import make_blobs\n"
   ]
  },
  {
   "cell_type": "markdown",
   "id": "fafe27e4-125e-477c-ad40-f8dd4bd581df",
   "metadata": {},
   "source": [
    "Set up useful environmental variable.\n",
    "\n",
    "Experiment with the flags, for example enable ucx. What happens of we do not enable ucx?\n"
   ]
  },
  {
   "cell_type": "code",
   "execution_count": 2,
   "id": "2650848b-7b4e-4172-bbf2-195495246d2d",
   "metadata": {},
   "outputs": [],
   "source": [
    "os.environ[\"DASK_DISTRIBUTED__COMM__UCX__NVLINK\"] = \"True\"\n",
    "os.environ[\"DASK_DISTRIBUTED__COMM__UCX__INFINIBAND\"] = \"True\"\n",
    "os.environ[\"DASK_DISTRIBUTED__COMM__UCX__NET_DEVICES\"] = \"ib0\"\n",
    "os.environ[\"DASK_DISTRIBUTED__COMM__UCX__CREATE_CUDA_CONTEXT\"]=\"True\"\n",
    "os.environ[\"DASK_DISTRIBUTED__COMM__UCX__CUDA_COPY\"]=\"True\"\n",
    "os.environ[\"DASK_DISTRIBUTED__COMM__UCX__TCP\"]=\"True\"\n",
    "os.environ[\"DASK_DISTRIBUTED__COMM__UCX__NVLINK\"]=\"True\"\n",
    "os.environ[\"DASK_DISTRIBUTED__COMM__UCX__INFINIBAND\"]=\"True\"\n",
    "os.environ[\"DASK_DISTRIBUTED__COMM__UCX__RDMACM\"]=\"True\"\n",
    "os.environ[\"UCX_MEMTYPE_REG_WHOLE_ALLOC_TYPES\"]=\"cuda\"\n",
    "os.environ[\"UCX_MEMTYPE_CACHE\"]=\"n\"\n",
    "current_dir = os.environ.get('SLURM_SUBMIT_DIR')\n"
   ]
  },
  {
   "cell_type": "markdown",
   "id": "475ed067-c417-4312-bea8-2389a05e25a8",
   "metadata": {},
   "source": [
    "Set up a LocalCUDACluster with 4 workers supposed to run on 4 GPUs in a single node\n"
   ]
  },
  {
   "cell_type": "code",
   "execution_count": 3,
   "id": "1b0c142a-bee1-4448-b9ee-9575c6af28ff",
   "metadata": {},
   "outputs": [
    {
     "ename": "SyntaxError",
     "evalue": "invalid syntax (2653138942.py, line 1)",
     "output_type": "error",
     "traceback": [
      "  \u001b[36mCell\u001b[39m\u001b[36m \u001b[39m\u001b[32mIn[3]\u001b[39m\u001b[32m, line 1\u001b[39m\n\u001b[31m    \u001b[39m\u001b[31mcluster = # ???\u001b[39m\n              ^\n\u001b[31mSyntaxError\u001b[39m\u001b[31m:\u001b[39m invalid syntax\n"
     ]
    }
   ],
   "source": [
    "cluster = # ???\n",
    "\n",
    "client = # ???\n",
    "client.wait_for_workers(4)\n",
    "client"
   ]
  },
  {
   "cell_type": "code",
   "execution_count": 4,
   "id": "d7701330-faac-473e-a0ea-9659c1cc784a",
   "metadata": {},
   "outputs": [],
   "source": [
    "# Set up the number of samples\n",
    "n_samples = 200000000\n",
    "# Specify further informations for the dataset we are going to generate\n",
    "n_features = 6\n",
    "start_random_state = 170\n",
    "n_parts = 20\n",
    "n_clusters = 8\n"
   ]
  },
  {
   "cell_type": "markdown",
   "id": "f0820d2e-d512-4366-a099-e7817e0b3508",
   "metadata": {},
   "source": [
    "Get the dataset (X, y), together with the true centers of the blobs dataset\n",
    "\n",
    "Use the make_blobs (from cuml.dask.datasets), to create blobs with n_samples, n_features, n_parts, n_clusters defined above (you may specify the std like \n",
    "cluster_std=0.4, and specify random_state)\n",
    "\n",
    "Specify also the flag: return_centers=True\n"
   ]
  },
  {
   "cell_type": "code",
   "execution_count": 5,
   "id": "0a66f696-823a-4872-9ebc-66339e0d1c74",
   "metadata": {},
   "outputs": [
    {
     "ename": "SyntaxError",
     "evalue": "invalid syntax (3334431105.py, line 1)",
     "output_type": "error",
     "traceback": [
      "  \u001b[36mCell\u001b[39m\u001b[36m \u001b[39m\u001b[32mIn[5]\u001b[39m\u001b[32m, line 1\u001b[39m\n\u001b[31m    \u001b[39m\u001b[31mX, _, centers = # ???\u001b[39m\n                    ^\n\u001b[31mSyntaxError\u001b[39m\u001b[31m:\u001b[39m invalid syntax\n"
     ]
    }
   ],
   "source": [
    "X, _, centers = # ???"
   ]
  },
  {
   "cell_type": "markdown",
   "id": "c71f32b4-c717-46d7-b4e1-9a03e739cdab",
   "metadata": {},
   "source": [
    "Wait for the result of array returned by make_blobs\n"
   ]
  },
  {
   "cell_type": "code",
   "execution_count": 6,
   "id": "22aa5b60-3668-4b59-9774-63800bdd0113",
   "metadata": {},
   "outputs": [],
   "source": [
    "# ???\n"
   ]
  },
  {
   "cell_type": "code",
   "execution_count": 7,
   "id": "75b86681-fb1b-4a8a-bfaa-84cc1bedfe1c",
   "metadata": {},
   "outputs": [
    {
     "ename": "NameError",
     "evalue": "name 'X' is not defined",
     "output_type": "error",
     "traceback": [
      "\u001b[31m---------------------------------------------------------------------------\u001b[39m",
      "\u001b[31mNameError\u001b[39m                                 Traceback (most recent call last)",
      "\u001b[36mCell\u001b[39m\u001b[36m \u001b[39m\u001b[32mIn[7]\u001b[39m\u001b[32m, line 1\u001b[39m\n\u001b[32m----> \u001b[39m\u001b[32m1\u001b[39m \u001b[43mX\u001b[49m\n",
      "\u001b[31mNameError\u001b[39m: name 'X' is not defined"
     ]
    }
   ],
   "source": [
    "X\n"
   ]
  },
  {
   "cell_type": "markdown",
   "id": "536e83ef-8802-4501-9eea-b04a148ec773",
   "metadata": {},
   "source": [
    "Define the KMeans model and fit over the data\n",
    "\n",
    "Use the KMeans from cuml.dask.cluster with n_clusters defined above \n"
   ]
  },
  {
   "cell_type": "code",
   "execution_count": 8,
   "id": "2ccc149e-d90e-4c6e-95fb-6a03bbcc0f19",
   "metadata": {},
   "outputs": [
    {
     "ename": "SyntaxError",
     "evalue": "invalid syntax (733657265.py, line 1)",
     "output_type": "error",
     "traceback": [
      "  \u001b[36mCell\u001b[39m\u001b[36m \u001b[39m\u001b[32mIn[8]\u001b[39m\u001b[32m, line 1\u001b[39m\n\u001b[31m    \u001b[39m\u001b[31mkmeans_model = # ???\u001b[39m\n                   ^\n\u001b[31mSyntaxError\u001b[39m\u001b[31m:\u001b[39m invalid syntax\n"
     ]
    }
   ],
   "source": [
    "kmeans_model = # ??? \n"
   ]
  },
  {
   "cell_type": "markdown",
   "id": "2516a039-ad5e-421c-909b-2ed541464a10",
   "metadata": {},
   "source": [
    "Fit kmeans_model over the blobs data"
   ]
  },
  {
   "cell_type": "code",
   "execution_count": 9,
   "id": "23640fe1-659f-4c14-b119-57f92327cea6",
   "metadata": {},
   "outputs": [],
   "source": [
    "# ???\n"
   ]
  },
  {
   "cell_type": "markdown",
   "id": "7caf1e9c-3d9b-47f9-b7f7-3ad223238ab5",
   "metadata": {},
   "source": [
    "wait for kmeans_model._func_fit to be completed\n"
   ]
  },
  {
   "cell_type": "code",
   "execution_count": 10,
   "id": "1bbfa410-6fd0-40d5-9483-d26eb609805d",
   "metadata": {},
   "outputs": [
    {
     "ename": "NameError",
     "evalue": "name 'kmeans_model' is not defined",
     "output_type": "error",
     "traceback": [
      "\u001b[31m---------------------------------------------------------------------------\u001b[39m",
      "\u001b[31mNameError\u001b[39m                                 Traceback (most recent call last)",
      "\u001b[36mCell\u001b[39m\u001b[36m \u001b[39m\u001b[32mIn[10]\u001b[39m\u001b[32m, line 1\u001b[39m\n\u001b[32m----> \u001b[39m\u001b[32m1\u001b[39m wait(\u001b[43mkmeans_model\u001b[49m._func_fit)\n",
      "\u001b[31mNameError\u001b[39m: name 'kmeans_model' is not defined"
     ]
    }
   ],
   "source": [
    "wait(kmeans_model._func_fit)\n"
   ]
  },
  {
   "cell_type": "markdown",
   "id": "8fd71403-8913-4776-98d4-e2bc25051d3d",
   "metadata": {},
   "source": [
    "Compute the score over the dataset\n"
   ]
  },
  {
   "cell_type": "code",
   "execution_count": 11,
   "id": "f3cacb7d-3626-4127-9114-fe742e6592dd",
   "metadata": {},
   "outputs": [
    {
     "ename": "SyntaxError",
     "evalue": "invalid syntax (3628175130.py, line 1)",
     "output_type": "error",
     "traceback": [
      "  \u001b[36mCell\u001b[39m\u001b[36m \u001b[39m\u001b[32mIn[11]\u001b[39m\u001b[32m, line 1\u001b[39m\n\u001b[31m    \u001b[39m\u001b[31mscore = # ???\u001b[39m\n            ^\n\u001b[31mSyntaxError\u001b[39m\u001b[31m:\u001b[39m invalid syntax\n"
     ]
    }
   ],
   "source": [
    "score = # ???\n",
    "score\n"
   ]
  },
  {
   "cell_type": "markdown",
   "id": "d327b133-2a7d-4517-bdea-b774532c96ff",
   "metadata": {},
   "source": [
    "Extra notes:\n",
    "\n",
    "The distributed estimator wrappers inside of the cuml.dask are not intended to be pickled directly. \n",
    "\n",
    "The Dask cuML estimators provide a function get_combined_model(), which returns the trained single-GPU model for pickling. \n"
   ]
  },
  {
   "cell_type": "code",
   "execution_count": 12,
   "id": "9e354144-3d48-44fb-9f27-acd6fef0a22a",
   "metadata": {},
   "outputs": [
    {
     "ename": "SyntaxError",
     "evalue": "invalid syntax (3896997402.py, line 1)",
     "output_type": "error",
     "traceback": [
      "  \u001b[36mCell\u001b[39m\u001b[36m \u001b[39m\u001b[32mIn[12]\u001b[39m\u001b[32m, line 1\u001b[39m\n\u001b[31m    \u001b[39m\u001b[31msingle_gpu_model = # ???\u001b[39m\n                       ^\n\u001b[31mSyntaxError\u001b[39m\u001b[31m:\u001b[39m invalid syntax\n"
     ]
    }
   ],
   "source": [
    "single_gpu_model = # ???\n"
   ]
  },
  {
   "cell_type": "markdown",
   "id": "e6079b1c-c6da-40d9-91b6-a19a4dd13cef",
   "metadata": {},
   "source": [
    "Save the model to file\n"
   ]
  },
  {
   "cell_type": "code",
   "execution_count": 13,
   "id": "63a2683a-b68d-454f-bdd5-e76b20fa0d84",
   "metadata": {},
   "outputs": [
    {
     "ename": "NameError",
     "evalue": "name 'single_gpu_model' is not defined",
     "output_type": "error",
     "traceback": [
      "\u001b[31m---------------------------------------------------------------------------\u001b[39m",
      "\u001b[31mNameError\u001b[39m                                 Traceback (most recent call last)",
      "\u001b[36mCell\u001b[39m\u001b[36m \u001b[39m\u001b[32mIn[13]\u001b[39m\u001b[32m, line 1\u001b[39m\n\u001b[32m----> \u001b[39m\u001b[32m1\u001b[39m pickle.dump(\u001b[43msingle_gpu_model\u001b[49m,  \u001b[38;5;28mopen\u001b[39m(current_dir + \u001b[33m\"\u001b[39m\u001b[33m/kmeans_model.pkl\u001b[39m\u001b[33m\"\u001b[39m, \u001b[33m\"\u001b[39m\u001b[33mwb\u001b[39m\u001b[33m\"\u001b[39m))\n",
      "\u001b[31mNameError\u001b[39m: name 'single_gpu_model' is not defined"
     ]
    }
   ],
   "source": [
    "pickle.dump(single_gpu_model,  open(current_dir + \"/kmeans_model.pkl\", \"wb\"))\n"
   ]
  },
  {
   "cell_type": "markdown",
   "id": "6a8d2532-28fc-4667-88b0-dd468133c3dd",
   "metadata": {},
   "source": [
    "Load the model from file"
   ]
  },
  {
   "cell_type": "code",
   "execution_count": 14,
   "id": "0c007f47-7e0c-4ad1-91ef-81604abf03eb",
   "metadata": {},
   "outputs": [],
   "source": [
    "single_gpu_model = pickle.load(open(current_dir + \"/kmeans_model.pkl\", \"rb\"))\n"
   ]
  },
  {
   "cell_type": "markdown",
   "id": "07f81970-9b41-41cd-852c-b10e88717bd8",
   "metadata": {},
   "source": [
    "Check the centers"
   ]
  },
  {
   "cell_type": "code",
   "execution_count": 15,
   "id": "6136e864-ef83-4045-aa76-ac1f2dd0afff",
   "metadata": {},
   "outputs": [
    {
     "name": "stdout",
     "output_type": "stream",
     "text": [
      "\n",
      "single_gpu_model.cluster_centers_:\n",
      " [[ 3.709649   -0.21033742  2.0523114  -0.57269543 -0.0788945  -2.7098181 ]\n",
      " [-8.450976   -2.6522863  -2.107193   -8.049456   -0.8129537   1.8000108 ]\n",
      " [-3.4631581  -2.461465   -5.9927      3.4270456  -0.09724133  4.9617367 ]\n",
      " [ 6.7415905  -9.323816   -4.6716123   0.32950097  1.5935401   8.07245   ]\n",
      " [-4.184515    8.023945    7.9304776  -5.4581156  -6.024884    1.7607986 ]\n",
      " [-2.6365547   9.953113   -5.283573    0.4455587   8.275815   -5.548049  ]\n",
      " [-9.414144    3.8845096  -3.8138428  -8.78808     8.086972    5.6787367 ]\n",
      " [ 5.6800804  -2.9955463   7.562831   -6.215161   -2.9287763  -1.0782595 ]]\n"
     ]
    },
    {
     "ename": "NameError",
     "evalue": "name 'centers' is not defined",
     "output_type": "error",
     "traceback": [
      "\u001b[31m---------------------------------------------------------------------------\u001b[39m",
      "\u001b[31mNameError\u001b[39m                                 Traceback (most recent call last)",
      "\u001b[36mCell\u001b[39m\u001b[36m \u001b[39m\u001b[32mIn[15]\u001b[39m\u001b[32m, line 2\u001b[39m\n\u001b[32m      1\u001b[39m \u001b[38;5;28mprint\u001b[39m(\u001b[33m\"\u001b[39m\u001b[38;5;130;01m\\n\u001b[39;00m\u001b[33msingle_gpu_model.cluster_centers_:\u001b[39m\u001b[38;5;130;01m\\n\u001b[39;00m\u001b[33m\"\u001b[39m,  single_gpu_model.cluster_centers_, flush=\u001b[38;5;28;01mTrue\u001b[39;00m)\n\u001b[32m----> \u001b[39m\u001b[32m2\u001b[39m \u001b[38;5;28mprint\u001b[39m(\u001b[33m\"\u001b[39m\u001b[38;5;130;01m\\n\u001b[39;00m\u001b[33mTrue centers:\u001b[39m\u001b[38;5;130;01m\\n\u001b[39;00m\u001b[33m\"\u001b[39m, \u001b[43mcenters\u001b[49m, flush=\u001b[38;5;28;01mTrue\u001b[39;00m)\n",
      "\u001b[31mNameError\u001b[39m: name 'centers' is not defined"
     ]
    }
   ],
   "source": [
    "print(\"\\nsingle_gpu_model.cluster_centers_:\\n\",  single_gpu_model.cluster_centers_, flush=True)\n",
    "print(\"\\nTrue centers:\\n\", centers, flush=True)\n"
   ]
  },
  {
   "cell_type": "markdown",
   "id": "e8733331-e9b9-482f-a908-ee62f376d0d0",
   "metadata": {},
   "source": [
    "Closing..."
   ]
  },
  {
   "cell_type": "code",
   "execution_count": null,
   "id": "bd74cac9-88a2-4809-b604-671df35a9bc8",
   "metadata": {},
   "outputs": [],
   "source": [
    "client.close()\n"
   ]
  },
  {
   "cell_type": "code",
   "execution_count": null,
   "id": "fd45a5ab-6ab9-40f9-ba6c-4ca1d980fd35",
   "metadata": {},
   "outputs": [],
   "source": []
  }
 ],
 "metadata": {
  "kernelspec": {
   "display_name": "Python 3 (ipykernel)",
   "language": "python",
   "name": "python3"
  },
  "language_info": {
   "codemirror_mode": {
    "name": "ipython",
    "version": 3
   },
   "file_extension": ".py",
   "mimetype": "text/x-python",
   "name": "python",
   "nbconvert_exporter": "python",
   "pygments_lexer": "ipython3",
   "version": "3.12.10"
  }
 },
 "nbformat": 4,
 "nbformat_minor": 5
}
