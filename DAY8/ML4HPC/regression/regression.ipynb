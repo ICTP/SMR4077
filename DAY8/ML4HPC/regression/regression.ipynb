{
 "cells": [
  {
   "cell_type": "markdown",
   "id": "80403055-c7a0-4796-9a3f-91c439609949",
   "metadata": {},
   "source": [
    "Import dependencies"
   ]
  },
  {
   "cell_type": "code",
   "execution_count": 1,
   "id": "2f5373d6-3d02-4441-b693-676dd22fd5db",
   "metadata": {},
   "outputs": [],
   "source": [
    "from distributed import Client\n",
    "from dask_cuda import LocalCUDACluster\n",
    "from dask.distributed import wait\n",
    "from cuml.dask.datasets.regression import make_regression\n",
    "from cuml.dask.linear_model import LinearRegression\n",
    "import numpy as np\n",
    "import cupy as cp\n",
    "import os\n",
    "import gc\n"
   ]
  },
  {
   "cell_type": "markdown",
   "id": "3a8cd6dc-3510-403c-8bc9-92423f96bf5d",
   "metadata": {},
   "source": [
    "Generate distributed regression dataset"
   ]
  },
  {
   "cell_type": "code",
   "execution_count": 2,
   "id": "10dc4068-6818-41c3-aa24-f6fab8b90b3a",
   "metadata": {},
   "outputs": [],
   "source": [
    "def generate_dist_dataset(client, n_samples, n_features, n_informative, n_targets, n_parts, bias, noise=0.0):\n",
    "    n_samples, n_features, n_informative, n_targets = int(n_samples), int(n_features), int(n_informative), int(n_targets)\n",
    "    n_parts = int(n_parts) if n_parts else None\n",
    "    X, y, coef = make_regression(client=client, n_samples=n_samples, n_features=n_features, n_informative=n_informative, \n",
    "                                 n_targets=n_targets, n_parts=n_parts, random_state=10, bias=bias, noise=noise, coef=True)\n",
    "    return X, y, coef\n"
   ]
  },
  {
   "cell_type": "markdown",
   "id": "79c02548-85bc-4060-8852-b65f496e337a",
   "metadata": {},
   "source": [
    "Define environmental variables "
   ]
  },
  {
   "cell_type": "code",
   "execution_count": 3,
   "id": "9cc62736-e66f-4573-bfd9-42dacf62cde7",
   "metadata": {},
   "outputs": [],
   "source": [
    "os.environ[\"DASK_DISTRIBUTED__COMM__UCX__NVLINK\"] = \"True\"\n",
    "os.environ[\"DASK_DISTRIBUTED__COMM__UCX__INFINIBAND\"] = \"True\"\n",
    "os.environ[\"DASK_DISTRIBUTED__COMM__UCX__NET_DEVICES\"] = \"ib0\"\n",
    "os.environ[\"DASK_DISTRIBUTED__COMM__UCX__CREATE_CUDA_CONTEXT\"]=\"True\"\n",
    "os.environ[\"DASK_DISTRIBUTED__COMM__UCX__CUDA_COPY\"]=\"True\"\n",
    "os.environ[\"DASK_DISTRIBUTED__COMM__UCX__TCP\"]=\"True\"\n",
    "os.environ[\"DASK_DISTRIBUTED__COMM__UCX__NVLINK\"]=\"True\"\n",
    "os.environ[\"DASK_DISTRIBUTED__COMM__UCX__INFINIBAND\"]=\"True\"\n",
    "os.environ[\"DASK_DISTRIBUTED__COMM__UCX__RDMACM\"]=\"True\"\n",
    "os.environ[\"UCX_MEMTYPE_REG_WHOLE_ALLOC_TYPES\"]=\"cuda\"\n",
    "os.environ[\"UCX_MEMTYPE_CACHE\"]=\"n\"\n"
   ]
  },
  {
   "cell_type": "code",
   "execution_count": 4,
   "id": "eb717294-d4e2-4164-a784-dbe55027682b",
   "metadata": {},
   "outputs": [
    {
     "ename": "SyntaxError",
     "evalue": "invalid syntax (2653138942.py, line 1)",
     "output_type": "error",
     "traceback": [
      "  \u001b[36mCell\u001b[39m\u001b[36m \u001b[39m\u001b[32mIn[4]\u001b[39m\u001b[32m, line 1\u001b[39m\n\u001b[31m    \u001b[39m\u001b[31mcluster = # ???\u001b[39m\n              ^\n\u001b[31mSyntaxError\u001b[39m\u001b[31m:\u001b[39m invalid syntax\n"
     ]
    }
   ],
   "source": [
    "cluster = # ???\n",
    "\n",
    "client = # ???\n",
    "client.wait_for_workers(4)\n",
    "client"
   ]
  },
  {
   "cell_type": "code",
   "execution_count": null,
   "id": "54beefdf-d53f-471f-b0f4-4f318a110502",
   "metadata": {},
   "outputs": [],
   "source": [
    "n_workers = len(client.scheduler_info()[\"workers\"].keys())\n",
    "assert n_workers == 4"
   ]
  },
  {
   "cell_type": "markdown",
   "id": "150726a0-0b01-4b3c-9b1e-2d47d9359d17",
   "metadata": {},
   "source": [
    "Set up the number of samples"
   ]
  },
  {
   "cell_type": "code",
   "execution_count": null,
   "id": "fac23ebd-4c4f-4850-b5a2-92860cbcdff6",
   "metadata": {},
   "outputs": [],
   "source": [
    "MAX_SAMPLES_PER_WORKER = 80000000\n",
    "n_samples = 320000000\n",
    "if n_samples > n_workers * MAX_SAMPLES_PER_WORKER:\n",
    "    n_samples = n_workers * MAX_SAMPLES_PER_WORKER\n",
    "\n",
    "# Specify further informations for the dataset we are going to generate\n",
    "n_features = 64\n",
    "n_informative = 16\n",
    "n_targets = 1\n",
    "n_parts = max(int(n_samples / 40000000), n_workers)\n",
    "bias = 1.0\n"
   ]
  },
  {
   "cell_type": "markdown",
   "id": "de192802-acc7-461a-b690-e2604323cefb",
   "metadata": {},
   "source": [
    "Get the dataset (X, y), together with the true coefficient of the regression dataset (coef) "
   ]
  },
  {
   "cell_type": "code",
   "execution_count": null,
   "id": "ebd74456-e302-470a-baa2-fd9a755e13bd",
   "metadata": {},
   "outputs": [],
   "source": [
    "X, y, coef = generate_dist_dataset(client, n_samples, n_features, n_informative, n_targets, n_parts, bias)\n"
   ]
  },
  {
   "cell_type": "code",
   "execution_count": null,
   "id": "f19db5d9-2795-4558-b53c-cec8eb0c14ba",
   "metadata": {},
   "outputs": [],
   "source": [
    "X"
   ]
  },
  {
   "cell_type": "code",
   "execution_count": null,
   "id": "03a67f1d-55b9-4129-acb4-c531e9a4c330",
   "metadata": {},
   "outputs": [],
   "source": [
    "y"
   ]
  },
  {
   "cell_type": "markdown",
   "id": "392bbed9-000a-4582-9d92-ae292c744445",
   "metadata": {},
   "source": [
    "Define a Linear Regression model, since we have a bias, you may want to use the flags fit_intercept=True, normalize=False \n"
   ]
  },
  {
   "cell_type": "code",
   "execution_count": null,
   "id": "2511538c-d01b-4d04-9c11-6c9b4fd818d6",
   "metadata": {},
   "outputs": [],
   "source": [
    "lr=# ???\n"
   ]
  },
  {
   "cell_type": "markdown",
   "id": "054fc9de-4322-477f-a828-a9f4928a59d9",
   "metadata": {},
   "source": [
    "Fit the model over the data\n"
   ]
  },
  {
   "cell_type": "code",
   "execution_count": null,
   "id": "133ab01b-5936-49dc-adf0-36a62a3bb6ad",
   "metadata": {},
   "outputs": [],
   "source": [
    "# ???"
   ]
  },
  {
   "cell_type": "markdown",
   "id": "4ceb89e6-66dd-49a5-9636-de66fb11c808",
   "metadata": {},
   "source": [
    "Get the learned coefficient and bias, check the documentation here: https://docs.rapids.ai/api/cuml/stable/api/ "
   ]
  },
  {
   "cell_type": "code",
   "execution_count": null,
   "id": "71fedc97-3750-4813-b0f5-54db6c5db007",
   "metadata": {},
   "outputs": [],
   "source": [
    "lrcoef= # ???\n",
    "lrbias= # ???\n"
   ]
  },
  {
   "cell_type": "code",
   "execution_count": null,
   "id": "a7a585d7-bdc4-45dc-aaba-95b1e4592c03",
   "metadata": {},
   "outputs": [],
   "source": [
    "print(\"\\nThe original coefficients:\\n\", coef.compute(), flush=True)\n"
   ]
  },
  {
   "cell_type": "code",
   "execution_count": null,
   "id": "e185b8d1-c65f-411c-b0d8-3776c96358cb",
   "metadata": {},
   "outputs": [],
   "source": [
    "print(\"\\nThe original bias:\\n\", bias, flush=True)\n"
   ]
  },
  {
   "cell_type": "code",
   "execution_count": null,
   "id": "bc8627a7-4412-4d73-83f3-d2c455e6531f",
   "metadata": {},
   "outputs": [],
   "source": [
    "print(\"\\nThe learnt coefficients:\\n\", lrcoef, flush=True)\n"
   ]
  },
  {
   "cell_type": "code",
   "execution_count": null,
   "id": "e655a796-706e-4990-a331-786648d3b4d9",
   "metadata": {},
   "outputs": [],
   "source": [
    "print(\"\\nThe learnt bias:\\n\", lrbias, flush=True)\n"
   ]
  },
  {
   "cell_type": "markdown",
   "id": "e09d8ec4-213d-4be2-8b9c-47fe06b0e619",
   "metadata": {},
   "source": [
    "Close the client"
   ]
  },
  {
   "cell_type": "code",
   "execution_count": null,
   "id": "2ef59d42-e905-471c-b76b-392e59935649",
   "metadata": {},
   "outputs": [],
   "source": [
    "client.close()"
   ]
  },
  {
   "cell_type": "code",
   "execution_count": null,
   "id": "a635582c-09a5-4710-a074-1fb530dfc74d",
   "metadata": {},
   "outputs": [],
   "source": []
  }
 ],
 "metadata": {
  "kernelspec": {
   "display_name": "Python 3 (ipykernel)",
   "language": "python",
   "name": "python3"
  },
  "language_info": {
   "codemirror_mode": {
    "name": "ipython",
    "version": 3
   },
   "file_extension": ".py",
   "mimetype": "text/x-python",
   "name": "python",
   "nbconvert_exporter": "python",
   "pygments_lexer": "ipython3",
   "version": "3.12.10"
  }
 },
 "nbformat": 4,
 "nbformat_minor": 5
}
