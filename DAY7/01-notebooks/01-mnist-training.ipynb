{
 "cells": [
  {
   "cell_type": "code",
   "execution_count": 1,
   "id": "fd16e7f3-ce7a-477a-a25a-954d7541cabb",
   "metadata": {},
   "outputs": [],
   "source": [
    "try:\n",
    "    import torch\n",
    "    import torchvision\n",
    "    import torchvision.transforms as transforms\n",
    "    import matplotlib.pyplot as plt\n",
    "    import torch.nn as nn\n",
    "    import torch.nn.functional as F\n",
    "except ModuleNotFoundError as e:\n",
    "    !pip3 install matplotlib torch torchvision torchaudio --index-url https://download.pytorch.org/whl/cpu"
   ]
  },
  {
   "cell_type": "markdown",
   "id": "adca5e7f-1374-4db1-b329-36da346af40b",
   "metadata": {},
   "source": [
    "# Train our first MLP to classify images\n",
    "\n",
    "In this section, you will train your first Multi-Layer Perceptronon the MNIST dataset: it is \"Hello World\" of deep learning.\n",
    "\n",
    "MNIST consists of 60,000 training images and 10,000 test images, each showing a handwritten digit from 0 to 9 (10 classes in total).\n",
    "\n",
    "Each image is grayscale, with a resolution of 28×28 pixels. We'll flatten each image into a 1D array of size 784 to feed into our neural network.\n",
    "\n",
    "We'll go through the full training pipeline, including:\n",
    "\n",
    "1. Downloading the dataset\n",
    "2. Preprocessing the data\n",
    "3. Setting up the DataLoader\n",
    "4. Defining and initializing the model\n",
    "5. Choosing a loss function\n",
    "6. Setting up the optimizer\n",
    "7. Writing and running the training loop\n"
   ]
  },
  {
   "cell_type": "markdown",
   "id": "a1ddf097-a46f-4410-a588-bf78d243c160",
   "metadata": {},
   "source": [
    "## Initialize dataset and dataloader\n",
    "\n",
    "We begin by setting up the training and test datasets.\n",
    "\n",
    "Each image is transformed using normalization to ensure they share the same distribution, which helps the model train more effectively.\n",
    "\n",
    "We then create **DataLoaders** for both sets, using a **batch size of 128**."
   ]
  },
  {
   "cell_type": "code",
   "execution_count": 2,
   "id": "c29c429f-8de5-4304-843b-54b80fd4d668",
   "metadata": {},
   "outputs": [],
   "source": [
    "# 1. Normalize MNIST: mean=0.1307, std=0.3081\n",
    "transform = transforms.Compose([\n",
    "    transforms.ToTensor(),\n",
    "    transforms.Normalize((0.1307,), (0.3081,))\n",
    "])\n",
    "\n",
    "# 2. Download and transform MNIST dataset\n",
    "train_dataset = torchvision.datasets.MNIST(root='./data', train=True, transform=transform, download=False)\n",
    "test_dataset = torchvision.datasets.MNIST(root='./data', train=False, transform=transform, download=False)\n",
    "\n",
    "# 3. Create DataLoader\n",
    "train_loader = torch.utils.data.DataLoader(train_dataset, batch_size=128, shuffle=True)\n",
    "test_loader = torch.utils.data.DataLoader(test_dataset, batch_size=128, shuffle=True)"
   ]
  },
  {
   "cell_type": "code",
   "execution_count": 3,
   "id": "03b2a001-b968-46cf-a770-3ebdae96a0df",
   "metadata": {},
   "outputs": [
    {
     "data": {
      "image/png": "[encoded data removed]",
      "text/plain": [
       "<Figure size 1000x200 with 8 Axes>"
      ]
     },
     "metadata": {},
     "output_type": "display_data"
    }
   ],
   "source": [
    "# 4. Get one batch\n",
    "images, labels = next(iter(train_loader))  # images shape: (8, 1, 28, 28)\n",
    "\n",
    "# 5. Plot the images\n",
    "plt.figure(figsize=(10, 2))\n",
    "for i in range(8):\n",
    "    plt.subplot(1, 8, i+1)\n",
    "    plt.imshow(images[i][0], cmap='gray')  # images[i] has shape (1, 28, 28)\n",
    "    plt.title(str(labels[i].item()))\n",
    "    plt.axis('off')\n",
    "plt.suptitle(\"Sample MNIST Images\")\n",
    "plt.tight_layout()\n",
    "plt.show()\n"
   ]
  },
  {
   "cell_type": "markdown",
   "id": "eac82ed2-8116-4348-8272-1bc41b794dd9",
   "metadata": {},
   "source": [
    "## Model definition\n",
    "We define a Multi-Layer Perceptron with three layers, applying a ReLU activation function after each layer to introduce non-linearity."
   ]
  },
  {
   "cell_type": "code",
   "execution_count": 4,
   "id": "13a6076e-e249-4a49-ad7c-d0763c0d54d8",
   "metadata": {},
   "outputs": [],
   "source": [
    "# Define the MLP\n",
    "class MLP(nn.Module):\n",
    "    def __init__(self):\n",
    "        super(MLP, self).__init__()\n",
    "        self.fc1 = nn.Linear(28*28, 128)  # input layer to hidden layer\n",
    "        self.fc2 = nn.Linear(128, 64)     # hidden to hidden\n",
    "        self.fc3 = nn.Linear(64, 10)      # hidden to output (10 classes)\n",
    "\n",
    "    def forward(self, x):\n",
    "        x = x.view(x.size(0), -1)         # flatten input (batch_size, 784)\n",
    "        x = F.relu(self.fc1(x))           # first hidden layer + ReLU\n",
    "        x = F.relu(self.fc2(x))           # second hidden layer + ReLU\n",
    "        x = self.fc3(x)                   # output logits\n",
    "        return x"
   ]
  },
  {
   "cell_type": "markdown",
   "id": "a87b1119-ebe7-4b6f-b8dd-673dbc1275c1",
   "metadata": {},
   "source": [
    "## Test random initialized model\n",
    "\n",
    "Let's test the model with random initialized weight to look at its ouput."
   ]
  },
  {
   "cell_type": "code",
   "execution_count": 5,
   "id": "7c869da7-b16e-45fe-ac88-5c75e8a1a366",
   "metadata": {},
   "outputs": [
    {
     "name": "stdout",
     "output_type": "stream",
     "text": [
      "p(class=0): 0.1\n",
      "p(class=1): 0.1\n",
      "p(class=2): 0.1\n",
      "p(class=3): 0.1\n",
      "p(class=4): 0.08\n",
      "p(class=5): 0.12\n",
      "p(class=6): 0.1\n",
      "p(class=7): 0.08\n",
      "p(class=8): 0.13\n",
      "p(class=9): 0.09\n",
      "Predicted class: 8\n",
      "True class: 7\n"
     ]
    }
   ],
   "source": [
    "# Instantiate a model, by default the weight are random initialized\n",
    "model = MLP()\n",
    "# Get one batch of images, so the input and aoutput pairs. \n",
    "images, labels = next(iter(test_loader))  # images shape: (128, 1, 28, 28)\n",
    "\n",
    "with torch.no_grad():\n",
    "    # Get just the first image\n",
    "    x = images[0]\n",
    "    y = labels[0]\n",
    "    output = model(x.flatten().unsqueeze(0))\n",
    "    # Convert the model's output into a probability distribution where the neuron outputs sum to 1.0.\n",
    "    probs = F.softmax(output, dim=1) \n",
    "\n",
    "    for i in range(10):\n",
    "        print(f\"p(class={i}): {round(probs[0][i].item(),2)}\")\n",
    "    print(\"Predicted class:\", torch.argmax(probs, dim=1).item())\n",
    "    print(\"True class:\",y.item())"
   ]
  },
  {
   "cell_type": "markdown",
   "id": "7f3cb03e-978e-4632-910c-18b1ce9eaffa",
   "metadata": {},
   "source": [
    "## Setup training preliminaries:\n",
    "\n",
    "- [x] DataLoader\n",
    "- [x] Model\n",
    "- [ ] Loss function\n",
    "- [ ] Optimizer\n",
    "- [ ] Training loop"
   ]
  },
  {
   "cell_type": "markdown",
   "id": "df0b78c5-1d01-4794-bfc0-ab9ce39a6b18",
   "metadata": {},
   "source": [
    "## Classification accuracy\n",
    "While cross-entropy loss measures the difference between the model’s predicted probability distribution and the true distribution, it doesn't directly tell us how often the model gets the answer right.\n",
    "\n",
    "To evaluate performance more intuitively, we define a function to compute classification accuracy:\n",
    "For each prediction, we select the class with the highest predicted probability and compare it to the ground truth label."
   ]
  },
  {
   "cell_type": "code",
   "execution_count": 6,
   "id": "b1dddd92-7e9a-4d9a-b152-0960054fd6d2",
   "metadata": {},
   "outputs": [],
   "source": [
    "def evaluate(model, dataloader, device='cpu'):\n",
    "    model.eval()\n",
    "    correct = 0\n",
    "    total = 0\n",
    "    with torch.no_grad():\n",
    "        for x, y in dataloader:\n",
    "            x, y = x.to(device), y.to(device)\n",
    "            x = x.view(x.size(0), -1)\n",
    "            outputs = model(x)\n",
    "            preds = torch.argmax(outputs, dim=1)\n",
    "            correct += (preds == y).sum().item()\n",
    "            total += y.size(0)\n",
    "    return correct / total"
   ]
  },
  {
   "cell_type": "code",
   "execution_count": 7,
   "id": "cd410dd3-72a9-404f-adbb-29f238d9aa9c",
   "metadata": {},
   "outputs": [
    {
     "name": "stdout",
     "output_type": "stream",
     "text": [
      "cuda\n"
     ]
    }
   ],
   "source": [
    "# Check if CUDA devices are available; if yes, move everything to GPU\n",
    "device = torch.device(\"cuda\" if torch.cuda.is_available() else \"cpu\")\n",
    "\n",
    "#Instantiate the model and then move it to the selected device. \n",
    "print(device)"
   ]
  },
  {
   "cell_type": "code",
   "execution_count": 8,
   "id": "7a1375d0-4922-4d2e-82df-12cea073f6a1",
   "metadata": {},
   "outputs": [
    {
     "name": "stdout",
     "output_type": "stream",
     "text": [
      "MLP(\n",
      "  (fc1): Linear(in_features=784, out_features=128, bias=True)\n",
      "  (fc2): Linear(in_features=128, out_features=64, bias=True)\n",
      "  (fc3): Linear(in_features=64, out_features=10, bias=True)\n",
      ")\n",
      "cuda:0\n",
      "cuda:0\n",
      "cuda:0\n",
      "cuda:0\n",
      "cuda:0\n",
      "cuda:0\n"
     ]
    }
   ],
   "source": [
    "# Setup the optimizer and pass the model parameters\n",
    "# Setup the loss function    GPU\n",
    "\n",
    "loss_fn = torch.nn.CrossEntropyLoss()\n",
    "model = MLP().to(device)\n",
    "optimizer = torch.optim.SGD(model.parameters(), lr=0.001)\n",
    "print(model)\n",
    "losses = []\n",
    "performance = []\n",
    "\n",
    "for p in model.parameters():\n",
    "    print(p.device)"
   ]
  },
  {
   "cell_type": "code",
   "execution_count": null,
   "id": "8581f89a-ce24-44b6-a78a-d15749a971e5",
   "metadata": {},
   "outputs": [
    {
     "name": "stdout",
     "output_type": "stream",
     "text": [
      "Epoch 0, Loss: 1057.0807, Accuracy: 0.4240, Epoch runtime 8.3297\n",
      "Epoch 1, Loss: 979.0637, Accuracy: 0.6711, Epoch runtime 7.1945\n",
      "Epoch 2, Loss: 840.3585, Accuracy: 0.7312, Epoch runtime 7.1716\n",
      "Epoch 3, Loss: 655.0286, Accuracy: 0.7701, Epoch runtime 7.3242\n"
     ]
    }
   ],
   "source": [
    "from time import time\n",
    "for epoch in range(10):\n",
    "    start=time()\n",
    "    model.train()\n",
    "    loss_epoch = 0\n",
    "    for batch_x, batch_y in train_loader:\n",
    "        batch_x = batch_x.view(batch_x.size(0), -1)  # flatten\n",
    "        # TODO: set gradient optimizer to zero\n",
    "        # TODO: evaluate the batch_x input to get the output\n",
    "        # TODO: calculate the loss function\n",
    "        # TODO: get the gradient with backward step\n",
    "        # TODO: optimization step\n",
    "        \n",
    "        optimizer.zero_grad()\n",
    "        \n",
    "        batch_x = batch_x.to(device)\n",
    "        batch_y = batch_y.to(device)\n",
    "        y_predicted = model(batch_x)\n",
    "        l = loss_fn(y_predicted,batch_y)\n",
    "        l.backward()\n",
    "        optimizer.step()\n",
    "        loss_epoch += l.item()\n",
    "    end = time()-start\n",
    "    accuracy = evaluate(model, test_loader,device=device)\n",
    "    print(f\"Epoch {epoch}, Loss: {loss_epoch:.4f}, Accuracy: {accuracy:.4f}, Epoch runtime {end:.4f}\")\n",
    "    losses.append(loss_epoch)\n",
    "    performance.append(accuracy)"
   ]
  },
  {
   "cell_type": "code",
   "execution_count": null,
   "id": "fa2c4ace-1807-41d1-b8ce-69891846cee2",
   "metadata": {},
   "outputs": [],
   "source": [
    "# Plot training loss\n",
    "plt.figure(figsize=(10, 4))\n",
    "plt.subplot(1, 2, 1)\n",
    "plt.plot(losses, label=\"Training Loss\")\n",
    "plt.yscale('log')\n",
    "plt.xlabel(\"Epoch\")\n",
    "plt.ylabel(\"Loss\")\n",
    "plt.title(\"Loss over Epochs\")\n",
    "plt.legend()\n",
    "plt.grid(True)\n",
    "\n",
    "# Plot test accuracy\n",
    "plt.subplot(1, 2, 2)\n",
    "plt.plot(performance, label=\"Test Accuracy\", color='green')\n",
    "plt.xlabel(\"Epoch\")\n",
    "plt.ylabel(\"Accuracy\")\n",
    "plt.title(\"Accuracy over Epochs\")\n",
    "plt.legend()\n",
    "plt.grid(True)\n",
    "\n",
    "plt.tight_layout()\n",
    "plt.show()\n"
   ]
  },
  {
   "cell_type": "code",
   "execution_count": null,
   "id": "b2a6dd4e-1142-4384-a6d2-3983c7f1fc7b",
   "metadata": {},
   "outputs": [],
   "source": []
  }
 ],
 "metadata": {
  "kernelspec": {
   "display_name": "Python 3 (ipykernel)",
   "language": "python",
   "name": "python3"
  },
  "language_info": {
   "codemirror_mode": {
    "name": "ipython",
    "version": 3
   },
   "file_extension": ".py",
   "mimetype": "text/x-python",
   "name": "python",
   "nbconvert_exporter": "python",
   "pygments_lexer": "ipython3",
   "version": "3.11.6"
  }
 },
 "nbformat": 4,
 "nbformat_minor": 5
}
